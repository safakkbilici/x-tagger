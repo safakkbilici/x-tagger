{
 "cells": [
  {
   "cell_type": "code",
   "execution_count": 9,
   "id": "1493ca6d",
   "metadata": {},
   "outputs": [],
   "source": [
    "import pandas as pd\n",
    "from datasets import load_dataset\n",
    "import torch\n",
    "\n",
    "import xtagger\n",
    "from xtagger import df_to_torchtext_data\n",
    "from xtagger import LSTMForTagging"
   ]
  },
  {
   "cell_type": "code",
   "execution_count": 3,
   "id": "43ecfc3c",
   "metadata": {},
   "outputs": [],
   "source": [
    "%%capture\n",
    "dataset = load_dataset(\"wikiann\", \"tr\")"
   ]
  },
  {
   "cell_type": "code",
   "execution_count": 4,
   "id": "ff5cc0b9",
   "metadata": {},
   "outputs": [
    {
     "name": "stdout",
     "output_type": "stream",
     "text": [
      "{'langs': ['tr', 'tr', 'tr', 'tr', 'tr', 'tr', 'tr', 'tr', 'tr', 'tr', 'tr', 'tr', 'tr', 'tr', 'tr', 'tr', 'tr', 'tr', 'tr', 'tr', 'tr', 'tr', 'tr'], 'ner_tags': [0, 0, 3, 4, 4, 4, 0, 0, 0, 0, 0, 0, 0, 0, 0, 0, 0, 0, 0, 0, 0, 0, 0], 'spans': [\"ORG: Slovenya Millî Basketbol Takımı'nı\"], 'tokens': ['3.lük', 'maçında', 'Slovenya', 'Millî', 'Basketbol', \"Takımı'nı\", 'yendikleri', 'maçta', '23', 'sayı', ',', '6', 'ribaund', ',', '2', 'blok', 'istatistikleriyle', 'oynamış', 've', '12', 'faul', 'yaptırmıştır', '.']}\n"
     ]
    }
   ],
   "source": [
    "print(dataset[\"train\"][0])"
   ]
  },
  {
   "cell_type": "code",
   "execution_count": 5,
   "id": "725d4f75",
   "metadata": {},
   "outputs": [],
   "source": [
    "ner_encoding = {0: \"O\", 1: \"B-PER\", 2: \"I-PER\", 3: \"B-ORG\", 4: \"I-ORG\", 5: \"B-LOC\", 6: \"I-LOC\"}\n",
    "\n",
    "\n",
    "train_tokens = []\n",
    "train_tags = []\n",
    "for sample in dataset[\"train\"]:\n",
    "  train_tokens.append(' '.join(sample[\"tokens\"]))\n",
    "  train_tags.append(' '.join([ner_encoding[a] for a in sample[\"ner_tags\"]]))\n",
    "\n",
    "test_tokens = []\n",
    "test_tags = []\n",
    "for sample in dataset[\"train\"]:\n",
    "  test_tokens.append(' '.join(sample[\"tokens\"]))\n",
    "  test_tags.append(' '.join([ner_encoding[a] for a in sample[\"ner_tags\"]]))\n",
    "\n",
    "df_train = pd.DataFrame({\"sentence\": train_tokens, \"tags\": train_tags})\n",
    "df_test = pd.DataFrame({\"sentence\": test_tokens, \"tags\": test_tags})"
   ]
  },
  {
   "cell_type": "code",
   "execution_count": 7,
   "id": "13a4dcc5",
   "metadata": {},
   "outputs": [],
   "source": [
    "device = torch.device(\"cuda\")"
   ]
  },
  {
   "cell_type": "code",
   "execution_count": 8,
   "id": "5e8e4746",
   "metadata": {},
   "outputs": [
    {
     "name": "stdout",
     "output_type": "stream",
     "text": [
      "Number of training examples: 20000\n",
      "Number of testing examples: 20000\n",
      "Unique tokens in TEXT vocabulary: 32442\n",
      "Unique tokens in TAGS vocabulary: 8\n"
     ]
    }
   ],
   "source": [
    "train_iterator, valid_iterator, test_iterator, TEXT, TAGS = df_to_torchtext_data(\n",
    "    df_train, \n",
    "    df_test, \n",
    "    device,\n",
    "    batch_size=32\n",
    ")"
   ]
  },
  {
   "cell_type": "code",
   "execution_count": 10,
   "id": "2d8d2245",
   "metadata": {},
   "outputs": [
    {
     "name": "stdout",
     "output_type": "stream",
     "text": [
      "The model has 3,877,040 trainable parameters\n"
     ]
    }
   ],
   "source": [
    "model = LSTMForTagging(\n",
    "    input_dim = len(TEXT.vocab),\n",
    "    output_dim = len(TAGS.vocab),\n",
    "    TEXT = TEXT,\n",
    "    TAGS = TAGS,\n",
    "    dropout = 0.2,\n",
    "    device = device,\n",
    "    cuda = True\n",
    ")"
   ]
  },
  {
   "cell_type": "code",
   "execution_count": 22,
   "id": "b9713db1",
   "metadata": {},
   "outputs": [
    {
     "data": {
      "application/vnd.jupyter.widget-view+json": {
       "model_id": "b24b1ef6e8c44b07921a10b91b1175c3",
       "version_major": 2,
       "version_minor": 0
      },
      "text/plain": [
       "HBox(children=(FloatProgress(value=0.0, max=3125.0), HTML(value='')))"
      ]
     },
     "metadata": {},
     "output_type": "display_data"
    },
    {
     "name": "stdout",
     "output_type": "stream",
     "text": [
      "Evaluating...\n"
     ]
    },
    {
     "data": {
      "application/vnd.jupyter.widget-view+json": {
       "model_id": "54f89920ea874791a3de652d4c7060d8",
       "version_major": 2,
       "version_minor": 0
      },
      "text/plain": [
       "HBox(children=(FloatProgress(value=0.0, max=1250.0), HTML(value='')))"
      ]
     },
     "metadata": {},
     "output_type": "display_data"
    },
    {
     "name": "stdout",
     "output_type": "stream",
     "text": [
      "\n",
      "{'eval': {'acc': 99.82975712015809, 'avg_f1': {'weighted': 99.8296458569029, 'micro': 99.82975712015809, 'macro': 87.20380046360874}}, 'train': {'acc': 99.83109235843136, 'avg_f1': {'weighted': 99.83098245674992, 'micro': 99.83109235843136, 'macro': 87.20747522307533}}, 'eval_loss': 0.0057962334088981155, 'train_loss': 0.005736465491144918}\n",
      "Evaluating...\n"
     ]
    },
    {
     "data": {
      "application/vnd.jupyter.widget-view+json": {
       "model_id": "3e95329493574ba3b1e787f706c93015",
       "version_major": 2,
       "version_minor": 0
      },
      "text/plain": [
       "HBox(children=(FloatProgress(value=0.0, max=1250.0), HTML(value='')))"
      ]
     },
     "metadata": {},
     "output_type": "display_data"
    },
    {
     "name": "stdout",
     "output_type": "stream",
     "text": [
      "\n",
      "{'eval': {'acc': 99.85712950476012, 'avg_f1': {'weighted': 99.85705554146296, 'micro': 99.85712950476012, 'macro': 87.24908394609692}}, 'train': {'acc': 99.85646188562349, 'avg_f1': {'weighted': 99.85638636006242, 'micro': 99.85646188562349, 'macro': 87.24720303053678}}, 'eval_loss': 0.0047501457734499125, 'train_loss': 0.00474989441386424}\n",
      "Evaluating...\n"
     ]
    },
    {
     "data": {
      "application/vnd.jupyter.widget-view+json": {
       "model_id": "c980f3b4102140bfadac5f63ee295887",
       "version_major": 2,
       "version_minor": 0
      },
      "text/plain": [
       "HBox(children=(FloatProgress(value=0.0, max=1250.0), HTML(value='')))"
      ]
     },
     "metadata": {},
     "output_type": "display_data"
    },
    {
     "name": "stdout",
     "output_type": "stream",
     "text": [
      "\n",
      "{'eval': {'acc': 99.86781141094629, 'avg_f1': {'weighted': 99.86777985125971, 'micro': 99.86781141094629, 'macro': 87.29681002043405}}, 'train': {'acc': 99.86914664921956, 'avg_f1': {'weighted': 99.86911738676734, 'micro': 99.86914664921956, 'macro': 87.29997387730441}}, 'eval_loss': 0.004236640985694248, 'train_loss': 0.004274631327704993}\n",
      "Evaluating...\n"
     ]
    },
    {
     "data": {
      "application/vnd.jupyter.widget-view+json": {
       "model_id": "f504193baf3f4456b84acb6581ed8b35",
       "version_major": 2,
       "version_minor": 0
      },
      "text/plain": [
       "HBox(children=(FloatProgress(value=0.0, max=1250.0), HTML(value='')))"
      ]
     },
     "metadata": {},
     "output_type": "display_data"
    },
    {
     "name": "stdout",
     "output_type": "stream",
     "text": [
      "\n",
      "{'eval': {'acc': 99.89251331900178, 'avg_f1': {'weighted': 99.89248522297359, 'micro': 99.89251331900178, 'macro': 87.32144025584755}}, 'train': {'acc': 99.89251331900178, 'avg_f1': {'weighted': 99.89248504832744, 'micro': 99.89251331900178, 'macro': 87.32164676288659}}, 'eval_loss': 0.003552931280672783, 'train_loss': 0.003444847616250627}\n",
      "Evaluating...\n"
     ]
    },
    {
     "data": {
      "application/vnd.jupyter.widget-view+json": {
       "model_id": "a5e9bc95983b4448b03e2cda6468026c",
       "version_major": 2,
       "version_minor": 0
      },
      "text/plain": [
       "HBox(children=(FloatProgress(value=0.0, max=1250.0), HTML(value='')))"
      ]
     },
     "metadata": {},
     "output_type": "display_data"
    },
    {
     "name": "stdout",
     "output_type": "stream",
     "text": [
      "\n",
      "{'eval': {'acc': 99.9005247486414, 'avg_f1': {'weighted': 99.90047597514327, 'micro': 99.9005247486414, 'macro': 87.33014320068513}}, 'train': {'acc': 99.90119236777802, 'avg_f1': {'weighted': 99.90114337925291, 'micro': 99.90119236777802, 'macro': 87.33136477105805}}, 'eval_loss': 0.002831419196887873, 'train_loss': 0.0028605571439489722}\n",
      "\n"
     ]
    }
   ],
   "source": [
    "model.fit(\n",
    "    train_iterator, \n",
    "    valid_iterator, \n",
    "    eval_metrics = [\"acc\", \"avg_f1\"], \n",
    "    epochs = 5\n",
    ")"
   ]
  },
  {
   "cell_type": "code",
   "execution_count": null,
   "id": "8005c40c",
   "metadata": {},
   "outputs": [],
   "source": []
  },
  {
   "cell_type": "code",
   "execution_count": 32,
   "id": "4bcc783f",
   "metadata": {},
   "outputs": [
    {
     "data": {
      "text/plain": [
       "[\"Avustralya'da\",\n",
       " '25',\n",
       " 'numaraya',\n",
       " 'çıkmış',\n",
       " ',',\n",
       " 'ayrıca',\n",
       " 'Yeni',\n",
       " 'Zelanda',\n",
       " 'listesine',\n",
       " '32',\n",
       " 'numaradan',\n",
       " 'giriş',\n",
       " 'yapmış',\n",
       " 've',\n",
       " '8',\n",
       " 'numaraya',\n",
       " 'çıkmıştır',\n",
       " '.']"
      ]
     },
     "execution_count": 32,
     "metadata": {},
     "output_type": "execute_result"
    }
   ],
   "source": [
    "sentence = dataset[\"validation\"][2][\"tokens\"]\n",
    "sentence"
   ]
  },
  {
   "cell_type": "code",
   "execution_count": 33,
   "id": "cac56305",
   "metadata": {},
   "outputs": [
    {
     "data": {
      "text/plain": [
       "([(\"avustralya'da\", 'B-LOC'),\n",
       "  ('25', 'O'),\n",
       "  ('numaraya', 'O'),\n",
       "  ('çıkmış', 'O'),\n",
       "  (',', 'O'),\n",
       "  ('ayrıca', 'O'),\n",
       "  ('yeni', 'B-LOC'),\n",
       "  ('zelanda', 'I-LOC'),\n",
       "  ('listesine', 'O'),\n",
       "  ('32', 'O'),\n",
       "  ('numaradan', 'O'),\n",
       "  ('giriş', 'O'),\n",
       "  ('yapmış', 'O'),\n",
       "  ('ve', 'O'),\n",
       "  ('8', 'O'),\n",
       "  ('numaraya', 'O'),\n",
       "  ('çıkmıştır', 'O'),\n",
       "  ('.', 'O')],\n",
       " [])"
      ]
     },
     "execution_count": 33,
     "metadata": {},
     "output_type": "execute_result"
    }
   ],
   "source": [
    "model.predict(sentence)"
   ]
  },
  {
   "cell_type": "code",
   "execution_count": null,
   "id": "1b77b10c",
   "metadata": {},
   "outputs": [],
   "source": []
  }
 ],
 "metadata": {
  "kernelspec": {
   "display_name": "Python 3",
   "language": "python",
   "name": "python3"
  },
  "language_info": {
   "codemirror_mode": {
    "name": "ipython",
    "version": 3
   },
   "file_extension": ".py",
   "mimetype": "text/x-python",
   "name": "python",
   "nbconvert_exporter": "python",
   "pygments_lexer": "ipython3",
   "version": "3.7.10"
  }
 },
 "nbformat": 4,
 "nbformat_minor": 5
}
