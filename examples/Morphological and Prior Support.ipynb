{
 "cells": [
  {
   "cell_type": "markdown",
   "id": "8f391249",
   "metadata": {},
   "source": [
    "# Morphological Support For Unknown Words"
   ]
  },
  {
   "cell_type": "code",
   "execution_count": 1,
   "id": "fdfedf68",
   "metadata": {},
   "outputs": [],
   "source": [
    "from xtagger import HiddenMarkovModel\n",
    "from xtagger import EnglishRegExTagger\n",
    "\n",
    "import nltk\n",
    "from sklearn.model_selection import train_test_split\n",
    "\n",
    "nltk_data = list(nltk.corpus.treebank.tagged_sents(tagset='universal'))\n",
    "train_set, test_set = train_test_split(nltk_data,train_size=0.8,test_size=0.2)"
   ]
  },
  {
   "cell_type": "code",
   "execution_count": 2,
   "id": "baf0a45d",
   "metadata": {},
   "outputs": [],
   "source": [
    "rules = [\n",
    "    (r'.*ing$', 'VERB'),\n",
    "    (r'.*ed$',  'VERB'),\n",
    "    (r'.*es$',  'VERB')\n",
    "]\n",
    "\n",
    "morphological_tagger = EnglishRegExTagger(\n",
    "    rules = rules,\n",
    "    use_default = False,\n",
    "    mode = \"morphological\"\n",
    ")"
   ]
  },
  {
   "cell_type": "code",
   "execution_count": 3,
   "id": "81562284",
   "metadata": {},
   "outputs": [
    {
     "data": {
      "application/vnd.jupyter.widget-view+json": {
       "model_id": "3ab9190190944bc3b2d9595edf7ff2b7",
       "version_major": 2,
       "version_minor": 0
      },
      "text/plain": [
       "HBox(children=(FloatProgress(value=0.0, max=12.0), HTML(value='')))"
      ]
     },
     "metadata": {},
     "output_type": "display_data"
    },
    {
     "name": "stdout",
     "output_type": "stream",
     "text": [
      "\n"
     ]
    }
   ],
   "source": [
    "model = HiddenMarkovModel(\n",
    "    extend_to = \"bigram\",\n",
    "    language = \"en\",\n",
    "    morphological = morphological_tagger,\n",
    ")\n",
    "\n",
    "model.fit(train_set)"
   ]
  },
  {
   "cell_type": "code",
   "execution_count": 4,
   "id": "5b73f8e6",
   "metadata": {},
   "outputs": [
    {
     "data": {
      "application/vnd.jupyter.widget-view+json": {
       "model_id": "c37c417ce10f47908d336bee556ec125",
       "version_major": 2,
       "version_minor": 0
      },
      "text/plain": [
       "HBox(children=(FloatProgress(value=0.0, max=750.0), HTML(value='')))"
      ]
     },
     "metadata": {},
     "output_type": "display_data"
    },
    {
     "name": "stdout",
     "output_type": "stream",
     "text": [
      "\n",
      "              precision    recall  f1-score   support\n",
      "\n",
      "         ADJ       0.51      0.87      0.64        54\n",
      "           .       1.00      1.00      1.00        87\n",
      "         PRT       0.91      0.97      0.94        30\n",
      "         ADP       0.97      0.95      0.96        64\n",
      "           X       1.00      0.98      0.99        58\n",
      "        NOUN       0.96      0.85      0.90       213\n",
      "         DET       1.00      0.97      0.98        65\n",
      "        VERB       0.93      0.86      0.89       103\n",
      "        CONJ       0.94      1.00      0.97        17\n",
      "         ADV       0.76      0.65      0.70        20\n",
      "        PRON       1.00      1.00      1.00        20\n",
      "         NUM       1.00      0.79      0.88        19\n",
      "\n",
      "   micro avg       0.91      0.91      0.91       750\n",
      "   macro avg       0.91      0.91      0.91       750\n",
      "weighted avg       0.93      0.91      0.91       750\n",
      " samples avg       0.91      0.91      0.91       750\n",
      "\n"
     ]
    },
    {
     "data": {
      "text/plain": [
       "{'acc': 90.66666666666666}"
      ]
     },
     "execution_count": 4,
     "metadata": {},
     "output_type": "execute_result"
    }
   ],
   "source": [
    "model.evaluate(\n",
    "    test_set,\n",
    "    random_size = 30,\n",
    "    seed = 15,\n",
    "    eval_metrics = ['acc', 'report'],\n",
    "    result_type = \"%\",\n",
    "    morphological = True,\n",
    ")"
   ]
  },
  {
   "cell_type": "code",
   "execution_count": 6,
   "id": "2e5ac8ac",
   "metadata": {},
   "outputs": [
    {
     "data": {
      "application/vnd.jupyter.widget-view+json": {
       "model_id": "e9374f5ac6d642d6a5a3cd1fa6a5282c",
       "version_major": 2,
       "version_minor": 0
      },
      "text/plain": [
       "HBox(children=(FloatProgress(value=0.0, max=7.0), HTML(value='')))"
      ]
     },
     "metadata": {},
     "output_type": "display_data"
    },
    {
     "name": "stdout",
     "output_type": "stream",
     "text": [
      "\n"
     ]
    },
    {
     "data": {
      "text/plain": [
       "[('The', 'DET'),\n",
       " ('existence', 'NOUN'),\n",
       " ('of', 'ADP'),\n",
       " ('human', 'ADJ'),\n",
       " ('mankind', 'ADJ'),\n",
       " ('is', 'VERB'),\n",
       " ('insignificant', 'ADJ')]"
      ]
     },
     "execution_count": 6,
     "metadata": {},
     "output_type": "execute_result"
    }
   ],
   "source": [
    "model.predict([\"The\", \"existence\", \"of\", \"human\", \"mankind\", \"is\", \"insignificant\"], morphological=True)"
   ]
  },
  {
   "cell_type": "markdown",
   "id": "13a9c4da",
   "metadata": {},
   "source": [
    "# Prior Support For Computational Efficiency"
   ]
  },
  {
   "cell_type": "code",
   "execution_count": 7,
   "id": "233a2a53",
   "metadata": {},
   "outputs": [],
   "source": [
    "from xtagger import HiddenMarkovModel\n",
    "from xtagger import EnglishRegExTagger\n",
    "\n",
    "import nltk\n",
    "from sklearn.model_selection import train_test_split\n",
    "\n",
    "nltk_data = list(nltk.corpus.treebank.tagged_sents(tagset='universal'))\n",
    "train_set, test_set = train_test_split(nltk_data,train_size=0.8,test_size=0.2)"
   ]
  },
  {
   "cell_type": "code",
   "execution_count": 11,
   "id": "b3623a42",
   "metadata": {},
   "outputs": [],
   "source": [
    "rules = [\n",
    "    (r'.*ing$', 'VERB'),\n",
    "    (r'.*ed$',  'VERB'),\n",
    "    (r'.*es$',  'VERB')\n",
    "]\n",
    "\n",
    "prior_tagger = EnglishRegExTagger(\n",
    "    rules = rules,\n",
    "    use_default = False,\n",
    "    mode = \"prior\"\n",
    ")"
   ]
  },
  {
   "cell_type": "code",
   "execution_count": 12,
   "id": "dbb32ebb",
   "metadata": {},
   "outputs": [
    {
     "data": {
      "application/vnd.jupyter.widget-view+json": {
       "model_id": "6095e9d1499147b9b3d445cb43da0d25",
       "version_major": 2,
       "version_minor": 0
      },
      "text/plain": [
       "HBox(children=(FloatProgress(value=0.0, max=12.0), HTML(value='')))"
      ]
     },
     "metadata": {},
     "output_type": "display_data"
    },
    {
     "name": "stdout",
     "output_type": "stream",
     "text": [
      "\n"
     ]
    }
   ],
   "source": [
    "model = HiddenMarkovModel(\n",
    "    extend_to = \"bigram\",\n",
    "    language = \"en\",\n",
    "    prior = prior_tagger,\n",
    ")\n",
    "\n",
    "model.fit(train_set)"
   ]
  },
  {
   "cell_type": "code",
   "execution_count": 13,
   "id": "a637dbe3",
   "metadata": {},
   "outputs": [
    {
     "data": {
      "application/vnd.jupyter.widget-view+json": {
       "model_id": "eea183df56ae4793a12c6be023aea25d",
       "version_major": 2,
       "version_minor": 0
      },
      "text/plain": [
       "HBox(children=(FloatProgress(value=0.0, max=873.0), HTML(value='')))"
      ]
     },
     "metadata": {},
     "output_type": "display_data"
    },
    {
     "name": "stdout",
     "output_type": "stream",
     "text": [
      "\n",
      "              precision    recall  f1-score   support\n",
      "\n",
      "         ADJ       0.38      0.81      0.51        48\n",
      "           .       1.00      1.00      1.00       126\n",
      "         PRT       0.93      0.97      0.95        29\n",
      "         ADP       0.97      0.99      0.98        74\n",
      "           X       1.00      0.94      0.97        70\n",
      "         DET       1.00      0.98      0.99        63\n",
      "        VERB       0.77      0.95      0.85       114\n",
      "        CONJ       1.00      0.94      0.97        18\n",
      "         ADV       0.87      0.68      0.76        19\n",
      "        PRON       1.00      1.00      1.00        11\n",
      "        NOUN       0.97      0.72      0.83       265\n",
      "         NUM       1.00      0.83      0.91        36\n",
      "\n",
      "   micro avg       0.88      0.88      0.88       873\n",
      "   macro avg       0.91      0.90      0.89       873\n",
      "weighted avg       0.92      0.88      0.89       873\n",
      " samples avg       0.88      0.88      0.88       873\n",
      "\n"
     ]
    },
    {
     "data": {
      "text/plain": [
       "{'acc': 87.62886597938144}"
      ]
     },
     "execution_count": 13,
     "metadata": {},
     "output_type": "execute_result"
    }
   ],
   "source": [
    "model.evaluate(\n",
    "    test_set,\n",
    "    random_size = 30,\n",
    "    seed = 15,\n",
    "    eval_metrics = ['acc', 'report'],\n",
    "    result_type = \"%\",\n",
    "    prior = True,\n",
    ")"
   ]
  },
  {
   "cell_type": "code",
   "execution_count": 16,
   "id": "7288522d",
   "metadata": {},
   "outputs": [
    {
     "data": {
      "application/vnd.jupyter.widget-view+json": {
       "model_id": "993f2b71323142fa84ae116e03ca4776",
       "version_major": 2,
       "version_minor": 0
      },
      "text/plain": [
       "HBox(children=(FloatProgress(value=0.0, max=8.0), HTML(value='')))"
      ]
     },
     "metadata": {},
     "output_type": "display_data"
    },
    {
     "name": "stdout",
     "output_type": "stream",
     "text": [
      "\n"
     ]
    },
    {
     "data": {
      "text/plain": [
       "[('The', 'DET'),\n",
       " ('existence', 'ADJ'),\n",
       " ('of', 'ADP'),\n",
       " ('human', 'ADJ'),\n",
       " ('mankind', 'ADJ'),\n",
       " ('is', 'VERB'),\n",
       " ('over', 'ADP'),\n",
       " ('prioritized', 'VERB')]"
      ]
     },
     "execution_count": 16,
     "metadata": {},
     "output_type": "execute_result"
    }
   ],
   "source": [
    "model.predict([\"The\", \"existence\", \"of\", \"human\", \"mankind\", \"is\", \"over\", \"prioritized\"], prior=True)"
   ]
  },
  {
   "cell_type": "code",
   "execution_count": null,
   "id": "09dc326a",
   "metadata": {},
   "outputs": [],
   "source": []
  }
 ],
 "metadata": {
  "kernelspec": {
   "display_name": "Python 3",
   "language": "python",
   "name": "python3"
  },
  "language_info": {
   "codemirror_mode": {
    "name": "ipython",
    "version": 3
   },
   "file_extension": ".py",
   "mimetype": "text/x-python",
   "name": "python",
   "nbconvert_exporter": "python",
   "pygments_lexer": "ipython3",
   "version": "3.7.10"
  }
 },
 "nbformat": 4,
 "nbformat_minor": 5
}
