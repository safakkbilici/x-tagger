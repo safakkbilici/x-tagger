{
 "cells": [
  {
   "cell_type": "markdown",
   "id": "801d403b",
   "metadata": {},
   "source": [
    "# Bigram HMMs"
   ]
  },
  {
   "cell_type": "code",
   "execution_count": 1,
   "id": "0ccdff24",
   "metadata": {},
   "outputs": [],
   "source": [
    "from xtagger import HiddenMarkovModel\n",
    "\n",
    "import nltk\n",
    "from sklearn.model_selection import train_test_split\n",
    "\n",
    "nltk_data = list(nltk.corpus.treebank.tagged_sents(tagset='universal'))\n",
    "train_set, test_set = train_test_split(nltk_data,train_size=0.8,test_size=0.2)"
   ]
  },
  {
   "cell_type": "code",
   "execution_count": 2,
   "id": "383ada34",
   "metadata": {},
   "outputs": [
    {
     "data": {
      "application/vnd.jupyter.widget-view+json": {
       "model_id": "7d7e71151a4d408f9159df3d20144e9f",
       "version_major": 2,
       "version_minor": 0
      },
      "text/plain": [
       "HBox(children=(FloatProgress(value=0.0, max=12.0), HTML(value='')))"
      ]
     },
     "metadata": {},
     "output_type": "display_data"
    },
    {
     "name": "stdout",
     "output_type": "stream",
     "text": [
      "\n"
     ]
    }
   ],
   "source": [
    "model = HiddenMarkovModel(\n",
    "    extend_to = \"bigram\",\n",
    "    language = \"en\",\n",
    ")\n",
    "\n",
    "model.fit(train_set)"
   ]
  },
  {
   "cell_type": "code",
   "execution_count": 4,
   "id": "48bdfc63",
   "metadata": {},
   "outputs": [
    {
     "data": {
      "application/vnd.jupyter.widget-view+json": {
       "model_id": "daa170016192444bbc2bf31469827467",
       "version_major": 2,
       "version_minor": 0
      },
      "text/plain": [
       "HBox(children=(FloatProgress(value=0.0, max=568.0), HTML(value='')))"
      ]
     },
     "metadata": {},
     "output_type": "display_data"
    },
    {
     "name": "stdout",
     "output_type": "stream",
     "text": [
      "\n"
     ]
    },
    {
     "data": {
      "text/plain": [
       "{'acc': 89.08450704225352,\n",
       " 'classwise_f1': {'CONJ': 38.46153846153846,\n",
       "  'PRON': 100.0,\n",
       "  'VERB': 87.71929824561403,\n",
       "  'NOUN': 87.97468354430379,\n",
       "  'ADV': 72.72727272727272,\n",
       "  '.': 100.0,\n",
       "  'ADJ': 80.0,\n",
       "  'PRT': 100.0,\n",
       "  'ADP': 95.55555555555556,\n",
       "  'NUM': 100.0,\n",
       "  'DET': 98.87640449438202,\n",
       "  'X': 100.0}}"
      ]
     },
     "execution_count": 4,
     "metadata": {},
     "output_type": "execute_result"
    }
   ],
   "source": [
    "model.evaluate(\n",
    "    test_set,\n",
    "    random_size = 20,\n",
    "    seed = 15,\n",
    "    eval_metrics = ['acc', 'classwise_f1'],\n",
    "    result_type = \"%\",\n",
    ")"
   ]
  },
  {
   "cell_type": "code",
   "execution_count": 5,
   "id": "aff7f19e",
   "metadata": {},
   "outputs": [
    {
     "data": {
      "application/vnd.jupyter.widget-view+json": {
       "model_id": "14fd8fa78ff241969784297ab380c929",
       "version_major": 2,
       "version_minor": 0
      },
      "text/plain": [
       "HBox(children=(FloatProgress(value=0.0, max=14.0), HTML(value='')))"
      ]
     },
     "metadata": {},
     "output_type": "display_data"
    },
    {
     "name": "stdout",
     "output_type": "stream",
     "text": [
      "\n"
     ]
    },
    {
     "data": {
      "text/plain": [
       "[('There', 'DET'),\n",
       " ('are', 'VERB'),\n",
       " ('no', 'DET'),\n",
       " ('two', 'NUM'),\n",
       " ('words', 'NOUN'),\n",
       " ('in', 'ADP'),\n",
       " ('the', 'DET'),\n",
       " ('English', 'ADJ'),\n",
       " ('language', 'NOUN'),\n",
       " ('more', 'ADV'),\n",
       " ('harmful', 'ADJ'),\n",
       " ('than', 'ADP'),\n",
       " ('good', 'ADJ'),\n",
       " ('job', 'NOUN')]"
      ]
     },
     "execution_count": 5,
     "metadata": {},
     "output_type": "execute_result"
    }
   ],
   "source": [
    "s = [\"There\", \"are\", \"no\", \"two\", \"words\", \"in\", \"the\", \"English\", \n",
    "     \"language\", \"more\", \"harmful\", \"than\", \"good\", \"job\"]\n",
    "\n",
    "model.predict(s)"
   ]
  },
  {
   "cell_type": "markdown",
   "id": "c6c8a3b8",
   "metadata": {},
   "source": [
    "# Trigram HMMs"
   ]
  },
  {
   "cell_type": "code",
   "execution_count": 6,
   "id": "a07ad111",
   "metadata": {},
   "outputs": [],
   "source": [
    "from xtagger import HiddenMarkovModel\n",
    "\n",
    "import nltk\n",
    "from sklearn.model_selection import train_test_split\n",
    "\n",
    "nltk_data = list(nltk.corpus.treebank.tagged_sents(tagset='universal'))\n",
    "train_set, test_set = train_test_split(nltk_data,train_size=0.8,test_size=0.2)"
   ]
  },
  {
   "cell_type": "code",
   "execution_count": 7,
   "id": "2ac8d761",
   "metadata": {},
   "outputs": [
    {
     "data": {
      "application/vnd.jupyter.widget-view+json": {
       "model_id": "d7642072de3349faa2d0c713aeb1a0f6",
       "version_major": 2,
       "version_minor": 0
      },
      "text/plain": [
       "HBox(children=(FloatProgress(value=0.0, max=1728.0), HTML(value='')))"
      ]
     },
     "metadata": {},
     "output_type": "display_data"
    },
    {
     "name": "stdout",
     "output_type": "stream",
     "text": [
      "\n"
     ]
    }
   ],
   "source": [
    "model = HiddenMarkovModel(\n",
    "    extend_to = \"trigram\",\n",
    "    language = \"en\",\n",
    ")\n",
    "\n",
    "model.fit(train_set)"
   ]
  },
  {
   "cell_type": "code",
   "execution_count": 8,
   "id": "3ab0754b",
   "metadata": {},
   "outputs": [
    {
     "data": {
      "application/vnd.jupyter.widget-view+json": {
       "model_id": "2e2b2c50d6834a45a5f13e4daf5f2503",
       "version_major": 2,
       "version_minor": 0
      },
      "text/plain": [
       "HBox(children=(FloatProgress(value=0.0, max=77184.0), HTML(value='')))"
      ]
     },
     "metadata": {},
     "output_type": "display_data"
    },
    {
     "name": "stdout",
     "output_type": "stream",
     "text": [
      "\n"
     ]
    },
    {
     "data": {
      "text/plain": [
       "{'acc': 90.67164179104478,\n",
       " 'avg_recall': {'weigted': 90.67164179104478,\n",
       "  'micro': 90.67164179104478,\n",
       "  'macro': 91.21351833618937}}"
      ]
     },
     "execution_count": 8,
     "metadata": {},
     "output_type": "execute_result"
    }
   ],
   "source": [
    "model.evaluate(\n",
    "    test_set,\n",
    "    random_size = 20,\n",
    "    seed = 15,\n",
    "    eval_metrics = ['acc', 'avg_recall'],\n",
    "    result_type = \"%\",\n",
    ")"
   ]
  },
  {
   "cell_type": "code",
   "execution_count": 9,
   "id": "66f735e4",
   "metadata": {},
   "outputs": [
    {
     "data": {
      "application/vnd.jupyter.widget-view+json": {
       "model_id": "29e91e0ac4794aed963f75ab2059c235",
       "version_major": 2,
       "version_minor": 0
      },
      "text/plain": [
       "HBox(children=(FloatProgress(value=0.0, max=1584.0), HTML(value='')))"
      ]
     },
     "metadata": {},
     "output_type": "display_data"
    },
    {
     "name": "stdout",
     "output_type": "stream",
     "text": [
      "\n"
     ]
    },
    {
     "data": {
      "text/plain": [
       "[('Oh', 'X'),\n",
       " ('my', 'PRON'),\n",
       " ('dear', 'CONJ'),\n",
       " ('God', 'NOUN'),\n",
       " ('are', 'VERB'),\n",
       " ('you', 'PRON'),\n",
       " ('one', 'NUM'),\n",
       " ('of', 'ADP'),\n",
       " ('those', 'DET'),\n",
       " ('single', 'ADJ'),\n",
       " ('tear,people', 'CONJ')]"
      ]
     },
     "execution_count": 9,
     "metadata": {},
     "output_type": "execute_result"
    }
   ],
   "source": [
    "s = [\"Oh\", \"my\", \"dear\", \"God\", \"are\", \"you\", \"one\", \n",
    "     \"of\", \"those\", \"single\", \"tear\", \"people\"]\n",
    "\n",
    "model.predict(s)"
   ]
  },
  {
   "cell_type": "markdown",
   "id": "306bfe2b",
   "metadata": {},
   "source": [
    "# Deleted Interpolated HMMs"
   ]
  },
  {
   "cell_type": "code",
   "execution_count": 10,
   "id": "1aeb60ba",
   "metadata": {},
   "outputs": [],
   "source": [
    "from xtagger import HiddenMarkovModel\n",
    "\n",
    "import nltk\n",
    "from sklearn.model_selection import train_test_split\n",
    "\n",
    "nltk_data = list(nltk.corpus.treebank.tagged_sents(tagset='universal'))\n",
    "train_set, test_set = train_test_split(nltk_data,train_size=0.8,test_size=0.2)"
   ]
  },
  {
   "cell_type": "code",
   "execution_count": 11,
   "id": "dd3444ee",
   "metadata": {},
   "outputs": [
    {
     "data": {
      "application/vnd.jupyter.widget-view+json": {
       "model_id": "18568a50428e47eb818fac2b96cd849d",
       "version_major": 2,
       "version_minor": 0
      },
      "text/plain": [
       "HBox(children=(FloatProgress(value=0.0, max=3456.0), HTML(value='')))"
      ]
     },
     "metadata": {},
     "output_type": "display_data"
    },
    {
     "name": "stdout",
     "output_type": "stream",
     "text": [
      "\n",
      "λ1: 0.32782403380141667, λ2: 0.2937989312787374, λ3: 0.3783770349198459\n"
     ]
    }
   ],
   "source": [
    "model = HiddenMarkovModel(\n",
    "    extend_to = \"deleted_interpolation\",\n",
    "    language = \"en\",\n",
    ")\n",
    "\n",
    "model.fit(train_set)"
   ]
  },
  {
   "cell_type": "code",
   "execution_count": 12,
   "id": "1079cde8",
   "metadata": {},
   "outputs": [
    {
     "data": {
      "application/vnd.jupyter.widget-view+json": {
       "model_id": "a42ac99f0c1444f68ba2439417b20f19",
       "version_major": 2,
       "version_minor": 0
      },
      "text/plain": [
       "HBox(children=(FloatProgress(value=0.0, max=76176.0), HTML(value='')))"
      ]
     },
     "metadata": {},
     "output_type": "display_data"
    },
    {
     "name": "stdout",
     "output_type": "stream",
     "text": [
      "\n",
      "              precision    recall  f1-score   support\n",
      "\n",
      "        CONJ       0.17      1.00      0.29        11\n",
      "        PRON       1.00      1.00      1.00        10\n",
      "        VERB       0.98      0.86      0.91        56\n",
      "        NOUN       0.97      0.79      0.87       139\n",
      "         ADV       1.00      0.77      0.87        13\n",
      "           .       1.00      1.00      1.00        81\n",
      "         ADJ       0.92      0.68      0.78        34\n",
      "         PRT       0.90      1.00      0.95        18\n",
      "         ADP       0.98      0.96      0.97        52\n",
      "         NUM       1.00      0.77      0.87        39\n",
      "         DET       1.00      1.00      1.00        49\n",
      "           X       1.00      0.96      0.98        27\n",
      "\n",
      "   micro avg       0.88      0.88      0.88       529\n",
      "   macro avg       0.91      0.90      0.87       529\n",
      "weighted avg       0.96      0.88      0.91       529\n",
      " samples avg       0.88      0.88      0.88       529\n",
      "\n"
     ]
    },
    {
     "data": {
      "text/plain": [
       "{'acc': 88.09073724007561}"
      ]
     },
     "execution_count": 12,
     "metadata": {},
     "output_type": "execute_result"
    }
   ],
   "source": [
    "model.evaluate(\n",
    "    test_set,\n",
    "    random_size = 20,\n",
    "    seed = 15,\n",
    "    eval_metrics = ['acc', 'report'],\n",
    "    result_type = \"%\",\n",
    ")"
   ]
  },
  {
   "cell_type": "code",
   "execution_count": 13,
   "id": "4d307bae",
   "metadata": {},
   "outputs": [
    {
     "data": {
      "application/vnd.jupyter.widget-view+json": {
       "model_id": "a834a6bbf5d0477b972001dd4ba27ac5",
       "version_major": 2,
       "version_minor": 0
      },
      "text/plain": [
       "HBox(children=(FloatProgress(value=0.0, max=1152.0), HTML(value='')))"
      ]
     },
     "metadata": {},
     "output_type": "display_data"
    },
    {
     "name": "stdout",
     "output_type": "stream",
     "text": [
      "\n"
     ]
    },
    {
     "data": {
      "text/plain": [
       "[('The', 'DET'),\n",
       " ('next', 'ADJ'),\n",
       " ('Charlie', 'NOUN'),\n",
       " ('Parker', 'CONJ'),\n",
       " ('would', 'VERB'),\n",
       " ('never', 'ADV'),\n",
       " ('be', 'VERB'),\n",
       " ('discouraged', 'CONJ')]"
      ]
     },
     "execution_count": 13,
     "metadata": {},
     "output_type": "execute_result"
    }
   ],
   "source": [
    "s = [\"The\", \"next\", \"Charlie\", \"Parker\", \"would\", \"never\", \"be\", \"discouraged\"]\n",
    "\n",
    "model.predict(s)"
   ]
  },
  {
   "cell_type": "code",
   "execution_count": null,
   "id": "94d13265",
   "metadata": {},
   "outputs": [],
   "source": []
  }
 ],
 "metadata": {
  "kernelspec": {
   "display_name": "Python 3",
   "language": "python",
   "name": "python3"
  },
  "language_info": {
   "codemirror_mode": {
    "name": "ipython",
    "version": 3
   },
   "file_extension": ".py",
   "mimetype": "text/x-python",
   "name": "python",
   "nbconvert_exporter": "python",
   "pygments_lexer": "ipython3",
   "version": "3.7.10"
  }
 },
 "nbformat": 4,
 "nbformat_minor": 5
}
