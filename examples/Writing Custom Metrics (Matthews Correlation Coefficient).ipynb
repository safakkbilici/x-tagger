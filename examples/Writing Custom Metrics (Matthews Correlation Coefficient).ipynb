{
 "cells": [
  {
   "cell_type": "code",
   "execution_count": 1,
   "id": "b37bc18f",
   "metadata": {},
   "outputs": [],
   "source": [
    "from xtagger import HiddenMarkovModel\n",
    "from xtagger import EnglishRegExTagger\n",
    "from xtagger import xMetrics\n",
    "\n",
    "import nltk\n",
    "import nltk\n",
    "from sklearn.model_selection import train_test_split\n",
    "\n",
    "nltk_data = list(nltk.corpus.treebank.tagged_sents(tagset='universal'))\n",
    "train_set, test_set = train_test_split(nltk_data,train_size=0.8,test_size=0.2)"
   ]
  },
  {
   "cell_type": "code",
   "execution_count": 2,
   "id": "c79bd091",
   "metadata": {},
   "outputs": [
    {
     "data": {
      "application/vnd.jupyter.widget-view+json": {
       "model_id": "07d8e68e55a24c5b95cc9fc92cb9aeb5",
       "version_major": 2,
       "version_minor": 0
      },
      "text/plain": [
       "HBox(children=(FloatProgress(value=0.0, max=12.0), HTML(value='')))"
      ]
     },
     "metadata": {},
     "output_type": "display_data"
    },
    {
     "name": "stdout",
     "output_type": "stream",
     "text": [
      "\n"
     ]
    }
   ],
   "source": [
    "model = HiddenMarkovModel(\n",
    "    extend_to = \"bigram\",\n",
    "    language = \"en\"\n",
    ")\n",
    "\n",
    "model.fit(train_set)"
   ]
  },
  {
   "cell_type": "code",
   "execution_count": 8,
   "id": "295634f3",
   "metadata": {},
   "outputs": [],
   "source": [
    "class MatthewsCorrCoef(xMetrics):\n",
    "    def __init__(self, y_true, y_pred, tags):\n",
    "        super(MatthewsCorrCoef, self).__init__(y_true, y_pred, tags)\n",
    "        \n",
    "    def __call__(self):\n",
    "        import numpy as np\n",
    "        from sklearn.metrics import confusion_matrix\n",
    "        C = confusion_matrix(self.y_true.argmax(axis=1),self. y_pred.argmax(axis=1))\n",
    "        \n",
    "        t_sum = C.sum(axis = 1, dtype = np.float64)\n",
    "        p_sum = C.sum(axis = 0, dtype = np.float64)\n",
    "        n_correct = np.trace(C, dtype = np.float64)\n",
    "        n_samples = p_sum.sum()\n",
    "        cov_ytyp = n_correct * n_samples - np.dot(t_sum, p_sum)\n",
    "        cov_ypyp = n_samples ** 2 - np.dot(p_sum, p_sum)\n",
    "        cov_ytyt = n_samples ** 2 - np.dot(t_sum, t_sum)\n",
    "        mcc = cov_ytyp / np.sqrt(cov_ytyt * cov_ypyp)\n",
    "        \n",
    "        if np.isnan(mcc):\n",
    "            return 0.\n",
    "        else:\n",
    "            return mcc"
   ]
  },
  {
   "cell_type": "code",
   "execution_count": 9,
   "id": "4b5bef24",
   "metadata": {},
   "outputs": [
    {
     "data": {
      "application/vnd.jupyter.widget-view+json": {
       "model_id": "f464621e0a5e4472a84989a100917ef9",
       "version_major": 2,
       "version_minor": 0
      },
      "text/plain": [
       "HBox(children=(FloatProgress(value=0.0, max=129.0), HTML(value='')))"
      ]
     },
     "metadata": {},
     "output_type": "display_data"
    },
    {
     "name": "stdout",
     "output_type": "stream",
     "text": [
      "\n"
     ]
    },
    {
     "data": {
      "text/plain": [
       "{'acc': 95.34883720930233,\n",
       " 'avg_recall': {'weigted': 95.34883720930233,\n",
       "  'micro': 95.34883720930233,\n",
       "  'macro': 92.18657159833631},\n",
       " 'MatthewsCorrCoef': 0.9469769507004047}"
      ]
     },
     "execution_count": 9,
     "metadata": {},
     "output_type": "execute_result"
    }
   ],
   "source": [
    "model.evaluate(\n",
    "    test_set,\n",
    "    random_size = 5,\n",
    "    seed = 15,\n",
    "    eval_metrics = ['acc', 'avg_recall', MatthewsCorrCoef],\n",
    "    result_type = \"%\",\n",
    ")"
   ]
  },
  {
   "cell_type": "code",
   "execution_count": null,
   "id": "78b2ba08",
   "metadata": {},
   "outputs": [],
   "source": []
  }
 ],
 "metadata": {
  "kernelspec": {
   "display_name": "Python 3",
   "language": "python",
   "name": "python3"
  },
  "language_info": {
   "codemirror_mode": {
    "name": "ipython",
    "version": 3
   },
   "file_extension": ".py",
   "mimetype": "text/x-python",
   "name": "python",
   "nbconvert_exporter": "python",
   "pygments_lexer": "ipython3",
   "version": "3.7.10"
  }
 },
 "nbformat": 4,
 "nbformat_minor": 5
}
