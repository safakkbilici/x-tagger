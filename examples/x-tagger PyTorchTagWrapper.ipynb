{
 "cells": [
  {
   "cell_type": "markdown",
   "id": "054c85ec",
   "metadata": {},
   "source": [
    "# User Defined Models With x-tagger Wrapper (toy example)"
   ]
  },
  {
   "cell_type": "code",
   "execution_count": 2,
   "id": "d61d804e",
   "metadata": {},
   "outputs": [
    {
     "name": "stdout",
     "output_type": "stream",
     "text": [
      "Number of training examples: 8758\n",
      "Number of testing examples: 2190\n",
      "Unique tokens in TEXT vocabulary: 17487\n",
      "Unique tokens in TAGS vocabulary: 13\n"
     ]
    }
   ],
   "source": [
    "import nltk\n",
    "from sklearn.model_selection import train_test_split\n",
    "\n",
    "import torch\n",
    "from xtagger import LSTMForTagging\n",
    "from xtagger import xtagger_dataset_to_df, df_to_torchtext_data\n",
    "\n",
    "\n",
    "nltk_data = list(nltk.corpus.conll2000.tagged_sents(tagset='universal'))\n",
    "train_set, test_set = train_test_split(nltk_data,train_size=0.8,test_size=0.2)\n",
    "\n",
    "df_train = xtagger_dataset_to_df(train_set)\n",
    "df_test = xtagger_dataset_to_df(test_set)\n",
    "\n",
    "device = torch.device(\"cuda\" if torch.cuda.is_available() else \"cpu\")\n",
    "train_iterator, valid_iterator, test_iterator, TEXT, TAGS = df_to_torchtext_data(\n",
    "    df_train, \n",
    "    df_test, \n",
    "    device, \n",
    "    batch_size = 32\n",
    ")"
   ]
  },
  {
   "cell_type": "code",
   "execution_count": 3,
   "id": "a193a037",
   "metadata": {},
   "outputs": [],
   "source": [
    "import torch\n",
    "import torch.nn as nn\n",
    "\n",
    "class CNNTagger(nn.Module):\n",
    "    def __init__(self, n_tags,  out_channels = 1):\n",
    "        super(CNNTagger, self).__init__()\n",
    "        self.n_tags = n_tags\n",
    "        self.out_channels = out_channels\n",
    "        self.cnn1 = nn.Conv1d(\n",
    "            in_channels = 1, \n",
    "            out_channels = self.out_channels, \n",
    "            kernel_size=3, \n",
    "            padding=1\n",
    "        )\n",
    "        \n",
    "        self.cnn2 = nn.Conv1d(\n",
    "            in_channels = 1, \n",
    "            out_channels = self.out_channels, \n",
    "            kernel_size=5, \n",
    "            padding=2\n",
    "        )\n",
    "        \n",
    "        self.cnn3 = nn.Conv1d(\n",
    "            in_channels = 1, \n",
    "            out_channels = self.out_channels, \n",
    "            kernel_size=7, \n",
    "            padding=3\n",
    "        )\n",
    "        \n",
    "        self.dropout = nn.Dropout()\n",
    "        self.relu = nn.ReLU()\n",
    "        self.tanh = nn.Tanh()\n",
    "        self.fcn_1 = nn.Linear(self.out_channels, 5)\n",
    "        self.fcn_out = nn.Linear(5, self.n_tags)\n",
    "        \n",
    "        \n",
    "    def forward(self, x):\n",
    "        x = x[:,None,:].cuda().float()\n",
    "        out1 = self.relu(self.cnn1(x))\n",
    "        out2 = self.relu(self.dropout(self.cnn2(x)))\n",
    "        out3 = self.relu(self.dropout(self.cnn3(x)))\n",
    "        out = (out1 + out2 + out3) / 3 # B x 3 x 7\n",
    "        out = self.fcn_1(out.permute(0,2,1))\n",
    "        out = self.fcn_out(out)\n",
    "        return out"
   ]
  },
  {
   "cell_type": "code",
   "execution_count": 4,
   "id": "40f25306",
   "metadata": {},
   "outputs": [],
   "source": [
    "from xtagger import PyTorchTagTrainer\n",
    "\n",
    "device = torch.device(\"cuda\" if torch.cuda.is_available() else \"cpu\")\n",
    "model = CNNTagger(13,3).to(device)\n",
    "optimizer = torch.optim.Adam(model.parameters())\n",
    "criterion = torch.nn.CrossEntropyLoss(ignore_index = 0)\n",
    "\n",
    "\n",
    "trainer = PyTorchTagTrainer(\n",
    "    model = model,\n",
    "    criterion = criterion,\n",
    "    optimizer = optimizer,\n",
    "    device = device,\n",
    "    train_iterator = train_iterator,\n",
    "    val_iterator = test_iterator,\n",
    "    test_iterator = None,\n",
    "    TAGS = TAGS,\n",
    "    TEXT = TEXT\n",
    ")"
   ]
  },
  {
   "cell_type": "code",
   "execution_count": 5,
   "id": "f00de04f",
   "metadata": {},
   "outputs": [
    {
     "data": {
      "application/vnd.jupyter.widget-view+json": {
       "model_id": "ea18bcaea024413193a055e448bca098",
       "version_major": 2,
       "version_minor": 0
      },
      "text/plain": [
       "HBox(children=(FloatProgress(value=0.0, max=2740.0), HTML(value='')))"
      ]
     },
     "metadata": {},
     "output_type": "display_data"
    },
    {
     "name": "stdout",
     "output_type": "stream",
     "text": [
      "Evaluating...\n"
     ]
    },
    {
     "data": {
      "application/vnd.jupyter.widget-view+json": {
       "model_id": "e01dfecd998d42b7b303051583cbea8c",
       "version_major": 2,
       "version_minor": 0
      },
      "text/plain": [
       "HBox(children=(FloatProgress(value=0.0, max=343.0), HTML(value='')))"
      ]
     },
     "metadata": {},
     "output_type": "display_data"
    },
    {
     "name": "stdout",
     "output_type": "stream",
     "text": [
      "\n",
      "{'eval': {'acc': 19.637577491654746}, 'train': {'acc': 20.136540238727687}, 'eval_loss': 8.780225228572238, 'train_loss': 10.04117732674536}\n",
      "Evaluating...\n"
     ]
    },
    {
     "data": {
      "application/vnd.jupyter.widget-view+json": {
       "model_id": "47d0e40b72334f6db51150bd3cc65021",
       "version_major": 2,
       "version_minor": 0
      },
      "text/plain": [
       "HBox(children=(FloatProgress(value=0.0, max=343.0), HTML(value='')))"
      ]
     },
     "metadata": {},
     "output_type": "display_data"
    },
    {
     "name": "stdout",
     "output_type": "stream",
     "text": [
      "\n",
      "{'eval': {'acc': 25.461134954697183}, 'train': {'acc': 25.9058733591705}, 'eval_loss': 2.3991619538569795, 'train_loss': 2.4615511015383866}\n",
      "Evaluating...\n"
     ]
    },
    {
     "data": {
      "application/vnd.jupyter.widget-view+json": {
       "model_id": "bd67d5c1dab6491fa1838e5a5b8dcb95",
       "version_major": 2,
       "version_minor": 0
      },
      "text/plain": [
       "HBox(children=(FloatProgress(value=0.0, max=343.0), HTML(value='')))"
      ]
     },
     "metadata": {},
     "output_type": "display_data"
    },
    {
     "name": "stdout",
     "output_type": "stream",
     "text": [
      "\n",
      "{'eval': {'acc': 30.41678588459704}, 'train': {'acc': 30.384799616797064}, 'eval_loss': 2.158846554548844, 'train_loss': 2.1545461773002237}\n",
      "Evaluating...\n"
     ]
    },
    {
     "data": {
      "application/vnd.jupyter.widget-view+json": {
       "model_id": "0fb7ad5235b746ad997ef953fe63afd8",
       "version_major": 2,
       "version_minor": 0
      },
      "text/plain": [
       "HBox(children=(FloatProgress(value=0.0, max=343.0), HTML(value='')))"
      ]
     },
     "metadata": {},
     "output_type": "display_data"
    },
    {
     "name": "stdout",
     "output_type": "stream",
     "text": [
      "\n",
      "{'eval': {'acc': 30.44349070100143}, 'train': {'acc': 30.436570720779564}, 'eval_loss': 2.1233302786730337, 'train_loss': 2.1217943873718705}\n",
      "Evaluating...\n"
     ]
    },
    {
     "data": {
      "application/vnd.jupyter.widget-view+json": {
       "model_id": "3233cb3aa689499f825c7b1860d57a90",
       "version_major": 2,
       "version_minor": 0
      },
      "text/plain": [
       "HBox(children=(FloatProgress(value=0.0, max=343.0), HTML(value='')))"
      ]
     },
     "metadata": {},
     "output_type": "display_data"
    },
    {
     "name": "stdout",
     "output_type": "stream",
     "text": [
      "\n",
      "{'eval': {'acc': 30.426323319027183}, 'train': {'acc': 30.19464967413235}, 'eval_loss': 2.114841509556425, 'train_loss': 2.118328948960687}\n",
      "Evaluating...\n"
     ]
    },
    {
     "data": {
      "application/vnd.jupyter.widget-view+json": {
       "model_id": "e3cafcddae024f5495d2751da0dfb2e1",
       "version_major": 2,
       "version_minor": 0
      },
      "text/plain": [
       "HBox(children=(FloatProgress(value=0.0, max=343.0), HTML(value='')))"
      ]
     },
     "metadata": {},
     "output_type": "display_data"
    },
    {
     "name": "stdout",
     "output_type": "stream",
     "text": [
      "\n",
      "{'eval': {'acc': 30.514067715784453}, 'train': {'acc': 30.513017771520083}, 'eval_loss': 2.0931937003481216, 'train_loss': 2.098367074980353}\n",
      "Evaluating...\n"
     ]
    },
    {
     "data": {
      "application/vnd.jupyter.widget-view+json": {
       "model_id": "d8c2d353fabd4b61a24e708e0fe67759",
       "version_major": 2,
       "version_minor": 0
      },
      "text/plain": [
       "HBox(children=(FloatProgress(value=0.0, max=343.0), HTML(value='')))"
      ]
     },
     "metadata": {},
     "output_type": "display_data"
    },
    {
     "name": "stdout",
     "output_type": "stream",
     "text": [
      "\n",
      "{'eval': {'acc': 30.111587982832617}, 'train': {'acc': 30.001596678907873}, 'eval_loss': 2.1070213559745015, 'train_loss': 2.113463208623176}\n",
      "Evaluating...\n"
     ]
    },
    {
     "data": {
      "application/vnd.jupyter.widget-view+json": {
       "model_id": "bd619812730f40759c095f59513c740d",
       "version_major": 2,
       "version_minor": 0
      },
      "text/plain": [
       "HBox(children=(FloatProgress(value=0.0, max=343.0), HTML(value='')))"
      ]
     },
     "metadata": {},
     "output_type": "display_data"
    },
    {
     "name": "stdout",
     "output_type": "stream",
     "text": [
      "\n",
      "{'eval': {'acc': 29.65951359084406}, 'train': {'acc': 29.11955254283212}, 'eval_loss': 2.1065807377082715, 'train_loss': 2.109799807524159}\n",
      "Evaluating...\n"
     ]
    },
    {
     "data": {
      "application/vnd.jupyter.widget-view+json": {
       "model_id": "8f7ca346c6634adfaf92b8991212388c",
       "version_major": 2,
       "version_minor": 0
      },
      "text/plain": [
       "HBox(children=(FloatProgress(value=0.0, max=343.0), HTML(value='')))"
      ]
     },
     "metadata": {},
     "output_type": "display_data"
    },
    {
     "name": "stdout",
     "output_type": "stream",
     "text": [
      "\n",
      "{'eval': {'acc': 30.309966618979495}, 'train': {'acc': 30.231421673222727}, 'eval_loss': 2.0885737927063652, 'train_loss': 2.093431923946325}\n",
      "Evaluating...\n"
     ]
    },
    {
     "data": {
      "application/vnd.jupyter.widget-view+json": {
       "model_id": "df70b2602c1a451da4d1075b8023217c",
       "version_major": 2,
       "version_minor": 0
      },
      "text/plain": [
       "HBox(children=(FloatProgress(value=0.0, max=343.0), HTML(value='')))"
      ]
     },
     "metadata": {},
     "output_type": "display_data"
    },
    {
     "name": "stdout",
     "output_type": "stream",
     "text": [
      "\n",
      "{'eval': {'acc': 30.435860753457323}, 'train': {'acc': 30.471407351496765}, 'eval_loss': 2.078521628310715, 'train_loss': 2.079871195076156}\n",
      "\n"
     ]
    }
   ],
   "source": [
    "model = trainer.train(10)"
   ]
  },
  {
   "cell_type": "code",
   "execution_count": null,
   "id": "b1d1a949",
   "metadata": {},
   "outputs": [],
   "source": []
  },
  {
   "cell_type": "code",
   "execution_count": null,
   "id": "47274d23",
   "metadata": {},
   "outputs": [],
   "source": []
  }
 ],
 "metadata": {
  "kernelspec": {
   "display_name": "Python 3",
   "language": "python",
   "name": "python3"
  },
  "language_info": {
   "codemirror_mode": {
    "name": "ipython",
    "version": 3
   },
   "file_extension": ".py",
   "mimetype": "text/x-python",
   "name": "python",
   "nbconvert_exporter": "python",
   "pygments_lexer": "ipython3",
   "version": "3.7.10"
  }
 },
 "nbformat": 4,
 "nbformat_minor": 5
}
