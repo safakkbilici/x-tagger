{
 "cells": [
  {
   "cell_type": "markdown",
   "id": "61b8dd65",
   "metadata": {},
   "source": [
    "# LSTM"
   ]
  },
  {
   "cell_type": "markdown",
   "id": "a8a2c37b",
   "metadata": {},
   "source": [
    "Lets import required modules and set up our logging module"
   ]
  },
  {
   "cell_type": "code",
   "execution_count": 19,
   "id": "97fe1c11",
   "metadata": {},
   "outputs": [],
   "source": [
    "import logging\n",
    "import random\n",
    "\n",
    "import nltk\n",
    "import torch\n",
    "import xtagger\n",
    "from sklearn.model_selection import train_test_split\n",
    "from xtagger import LabelEncoder, WhiteSpaceTokenizer, RNNTagger, Accuracy, F1, ClasswiseF1\n",
    "from xtagger.utils.logging_helpers import LoggingHandler\n",
    "\n",
    "\n",
    "logging.basicConfig(\n",
    "    format='%(asctime)s - %(message)s',\n",
    "    datefmt='%Y-%m-%d %H:%M:%S',\n",
    "    level=logging.INFO,\n",
    "    handlers=[LoggingHandler()]\n",
    ")"
   ]
  },
  {
   "cell_type": "markdown",
   "id": "75af5b51",
   "metadata": {},
   "source": [
    "We import our dataset from NLTK. x-tagger only accepts xtagger.DATASET_TYPE input, but we have very rich collections of data converters. Then, set up our processors such as pretokenizer, tokenizer, and label encoder"
   ]
  },
  {
   "cell_type": "code",
   "execution_count": 3,
   "id": "21268680",
   "metadata": {},
   "outputs": [
    {
     "name": "stdout",
     "output_type": "stream",
     "text": [
      "typing.List[typing.List[typing.Tuple[str, str]]]\n",
      "2023-10-12 14:27:04 - Vocab size: 10151\n"
     ]
    }
   ],
   "source": [
    "def pretokenizer(text):\n",
    "    return text.lower().split()\n",
    "\n",
    "print(xtagger.DATASET_TYPE)\n",
    "\n",
    "\n",
    "nltk_data = list(nltk.corpus.treebank.tagged_sents(tagset='universal'))\n",
    "train_set, test_set = train_test_split(nltk_data,train_size=0.8,test_size=0.2)\n",
    "\n",
    "label_encoder = LabelEncoder(train_set)\n",
    "\n",
    "tokenizer = WhiteSpaceTokenizer()\n",
    "tokenizer.fit(train_set, pretokenizer=pretokenizer)"
   ]
  },
  {
   "cell_type": "code",
   "execution_count": 4,
   "id": "525ed8aa",
   "metadata": {},
   "outputs": [],
   "source": [
    "model = RNNTagger(\n",
    "    rnn=\"LSTM\",\n",
    "    vocab_size=tokenizer.vocab_size,\n",
    "    embedding_dim=100,\n",
    "    padding_idx=tokenizer.pad_token_id,\n",
    "    hidden_size=128,\n",
    "    num_layers=1,\n",
    "    bidirectional=True,\n",
    "    n_classes=len(label_encoder.maps) + 1,\n",
    "    dropout=0.1\n",
    ")"
   ]
  },
  {
   "cell_type": "code",
   "execution_count": 6,
   "id": "6a75e9bc",
   "metadata": {},
   "outputs": [],
   "source": [
    "optimizer = torch.optim.Adam(model.parameters())\n",
    "criterion = torch.nn.CrossEntropyLoss(ignore_index=label_encoder.pad_tag_id)\n",
    "device = torch.device(\"mps\")"
   ]
  },
  {
   "cell_type": "code",
   "execution_count": 7,
   "id": "83ff47c7",
   "metadata": {},
   "outputs": [
    {
     "name": "stdout",
     "output_type": "stream",
     "text": [
      "2023-10-12 14:28:08 - Output path is set to ./out.\n",
      "2023-10-12 14:28:08 - Evaluation results will be saved to ./out.\n",
      "2023-10-12 14:28:08 - Checkpoints will be saved to ./out.\n"
     ]
    },
    {
     "name": "stderr",
     "output_type": "stream",
     "text": [
      "/Users/safak.bilici/miniconda3/envs/default/lib/python3.11/site-packages/torch/cuda/amp/grad_scaler.py:124: UserWarning: torch.cuda.amp.GradScaler is enabled, but CUDA is not available.  Disabling.\n",
      "  warnings.warn(\n"
     ]
    },
    {
     "data": {
      "application/vnd.jupyter.widget-view+json": {
       "model_id": "3ef5440a9bb6488d9088e45e7530b762",
       "version_major": 2,
       "version_minor": 0
      },
      "text/plain": [
       "Training:   0%|          | 0/1470 [00:00<?, ?it/s]"
      ]
     },
     "metadata": {},
     "output_type": "display_data"
    },
    {
     "data": {
      "application/vnd.jupyter.widget-view+json": {
       "model_id": "4145d7ee793c4fe980bd4b37aef44978",
       "version_major": 2,
       "version_minor": 0
      },
      "text/plain": [
       "Evaluating:   0%|          | 0/25 [00:00<?, ?it/s]"
      ]
     },
     "metadata": {},
     "output_type": "display_data"
    },
    {
     "name": "stdout",
     "output_type": "stream",
     "text": [
      "2023-10-12 14:28:18 - Epoch 1/15 - Train Loss: 1.3004552326640304\n",
      "2023-10-12 14:28:18 - Epoch 1/15 - Evaluation Loss: 0.6933601450920105\n"
     ]
    },
    {
     "data": {
      "application/vnd.jupyter.widget-view+json": {
       "model_id": "39f8985b58274b938c5fef80bdc4cf2b",
       "version_major": 2,
       "version_minor": 0
      },
      "text/plain": [
       "Evaluating:   0%|          | 0/25 [00:00<?, ?it/s]"
      ]
     },
     "metadata": {},
     "output_type": "display_data"
    },
    {
     "name": "stdout",
     "output_type": "stream",
     "text": [
      "2023-10-12 14:28:21 - Epoch 2/15 - Train Loss: 0.5522085102845211\n",
      "2023-10-12 14:28:21 - Epoch 2/15 - Evaluation Loss: 0.4504885971546173\n"
     ]
    },
    {
     "data": {
      "application/vnd.jupyter.widget-view+json": {
       "model_id": "b01c0d19144949a6b1554b507295d374",
       "version_major": 2,
       "version_minor": 0
      },
      "text/plain": [
       "Evaluating:   0%|          | 0/25 [00:00<?, ?it/s]"
      ]
     },
     "metadata": {},
     "output_type": "display_data"
    },
    {
     "name": "stdout",
     "output_type": "stream",
     "text": [
      "2023-10-12 14:28:24 - Epoch 3/15 - Train Loss: 0.39233980525513085\n",
      "2023-10-12 14:28:24 - Epoch 3/15 - Evaluation Loss: 0.3570176923274994\n"
     ]
    },
    {
     "data": {
      "application/vnd.jupyter.widget-view+json": {
       "model_id": "72982b9b8c3843169c440af8572e62c1",
       "version_major": 2,
       "version_minor": 0
      },
      "text/plain": [
       "Evaluating:   0%|          | 0/25 [00:00<?, ?it/s]"
      ]
     },
     "metadata": {},
     "output_type": "display_data"
    },
    {
     "name": "stdout",
     "output_type": "stream",
     "text": [
      "2023-10-12 14:28:27 - Epoch 4/15 - Train Loss: 0.3037042769850517\n",
      "2023-10-12 14:28:27 - Epoch 4/15 - Evaluation Loss: 0.29874316036701204\n"
     ]
    },
    {
     "data": {
      "application/vnd.jupyter.widget-view+json": {
       "model_id": "8c55bc2a1b5b4285b82734c775e0fe25",
       "version_major": 2,
       "version_minor": 0
      },
      "text/plain": [
       "Evaluating:   0%|          | 0/25 [00:00<?, ?it/s]"
      ]
     },
     "metadata": {},
     "output_type": "display_data"
    },
    {
     "name": "stdout",
     "output_type": "stream",
     "text": [
      "2023-10-12 14:28:30 - Epoch 5/15 - Train Loss: 0.2448711503221064\n",
      "2023-10-12 14:28:30 - Epoch 5/15 - Evaluation Loss: 0.2620729994773865\n"
     ]
    },
    {
     "data": {
      "application/vnd.jupyter.widget-view+json": {
       "model_id": "8e5c33a371e94fb99186714573293b39",
       "version_major": 2,
       "version_minor": 0
      },
      "text/plain": [
       "Evaluating:   0%|          | 0/25 [00:00<?, ?it/s]"
      ]
     },
     "metadata": {},
     "output_type": "display_data"
    },
    {
     "name": "stdout",
     "output_type": "stream",
     "text": [
      "2023-10-12 14:28:33 - Epoch 6/15 - Train Loss: 0.19935344357271584\n",
      "2023-10-12 14:28:33 - Epoch 6/15 - Evaluation Loss: 0.23694030523300172\n"
     ]
    },
    {
     "data": {
      "application/vnd.jupyter.widget-view+json": {
       "model_id": "d9607bd316d142ceb45052ebd3d6fe0e",
       "version_major": 2,
       "version_minor": 0
      },
      "text/plain": [
       "Evaluating:   0%|          | 0/25 [00:00<?, ?it/s]"
      ]
     },
     "metadata": {},
     "output_type": "display_data"
    },
    {
     "name": "stdout",
     "output_type": "stream",
     "text": [
      "2023-10-12 14:28:36 - Epoch 7/15 - Train Loss: 0.16230678193423212\n",
      "2023-10-12 14:28:36 - Epoch 7/15 - Evaluation Loss: 0.2235153341293335\n"
     ]
    },
    {
     "data": {
      "application/vnd.jupyter.widget-view+json": {
       "model_id": "570eaf56f31a49ac84f994cf5bddea4a",
       "version_major": 2,
       "version_minor": 0
      },
      "text/plain": [
       "Evaluating:   0%|          | 0/25 [00:00<?, ?it/s]"
      ]
     },
     "metadata": {},
     "output_type": "display_data"
    },
    {
     "name": "stdout",
     "output_type": "stream",
     "text": [
      "2023-10-12 14:28:39 - Epoch 8/15 - Train Loss: 0.13465633152090772\n",
      "2023-10-12 14:28:39 - Epoch 8/15 - Evaluation Loss: 0.22235272645950319\n"
     ]
    },
    {
     "data": {
      "application/vnd.jupyter.widget-view+json": {
       "model_id": "cdbc95e0cd374514a46f60908273f2dd",
       "version_major": 2,
       "version_minor": 0
      },
      "text/plain": [
       "Evaluating:   0%|          | 0/25 [00:00<?, ?it/s]"
      ]
     },
     "metadata": {},
     "output_type": "display_data"
    },
    {
     "name": "stdout",
     "output_type": "stream",
     "text": [
      "2023-10-12 14:28:42 - Epoch 9/15 - Train Loss: 0.11109754177076477\n",
      "2023-10-12 14:28:42 - Epoch 9/15 - Evaluation Loss: 0.20667631506919862\n"
     ]
    },
    {
     "data": {
      "application/vnd.jupyter.widget-view+json": {
       "model_id": "ccb03cd1d23147aea11b1ff4302ec79b",
       "version_major": 2,
       "version_minor": 0
      },
      "text/plain": [
       "Evaluating:   0%|          | 0/25 [00:00<?, ?it/s]"
      ]
     },
     "metadata": {},
     "output_type": "display_data"
    },
    {
     "name": "stdout",
     "output_type": "stream",
     "text": [
      "2023-10-12 14:28:45 - Epoch 10/15 - Train Loss: 0.09154008826887121\n",
      "2023-10-12 14:28:45 - Epoch 10/15 - Evaluation Loss: 0.2017851948738098\n"
     ]
    },
    {
     "data": {
      "application/vnd.jupyter.widget-view+json": {
       "model_id": "b269de19d82f4ca195320f76d53a819e",
       "version_major": 2,
       "version_minor": 0
      },
      "text/plain": [
       "Evaluating:   0%|          | 0/25 [00:00<?, ?it/s]"
      ]
     },
     "metadata": {},
     "output_type": "display_data"
    },
    {
     "name": "stdout",
     "output_type": "stream",
     "text": [
      "2023-10-12 14:28:48 - Epoch 11/15 - Train Loss: 0.07439479277450212\n",
      "2023-10-12 14:28:48 - Epoch 11/15 - Evaluation Loss: 0.20238860785961152\n"
     ]
    },
    {
     "data": {
      "application/vnd.jupyter.widget-view+json": {
       "model_id": "b174f9bb80c24adc91ef81e78b0bea8b",
       "version_major": 2,
       "version_minor": 0
      },
      "text/plain": [
       "Evaluating:   0%|          | 0/25 [00:00<?, ?it/s]"
      ]
     },
     "metadata": {},
     "output_type": "display_data"
    },
    {
     "name": "stdout",
     "output_type": "stream",
     "text": [
      "2023-10-12 14:28:51 - Epoch 12/15 - Train Loss: 0.062384373337334514\n",
      "2023-10-12 14:28:51 - Epoch 12/15 - Evaluation Loss: 0.19868223667144774\n"
     ]
    },
    {
     "data": {
      "application/vnd.jupyter.widget-view+json": {
       "model_id": "0b5b1e4ff8434f8b8b81d2214284c075",
       "version_major": 2,
       "version_minor": 0
      },
      "text/plain": [
       "Evaluating:   0%|          | 0/25 [00:00<?, ?it/s]"
      ]
     },
     "metadata": {},
     "output_type": "display_data"
    },
    {
     "name": "stdout",
     "output_type": "stream",
     "text": [
      "2023-10-12 14:28:54 - Epoch 13/15 - Train Loss: 0.052897779575111915\n",
      "2023-10-12 14:28:54 - Epoch 13/15 - Evaluation Loss: 0.19688178718090057\n"
     ]
    },
    {
     "data": {
      "application/vnd.jupyter.widget-view+json": {
       "model_id": "ba05ccc35d6241f9b871fc4903d2df64",
       "version_major": 2,
       "version_minor": 0
      },
      "text/plain": [
       "Evaluating:   0%|          | 0/25 [00:00<?, ?it/s]"
      ]
     },
     "metadata": {},
     "output_type": "display_data"
    },
    {
     "name": "stdout",
     "output_type": "stream",
     "text": [
      "2023-10-12 14:28:57 - Epoch 14/15 - Train Loss: 0.044348734925139924\n",
      "2023-10-12 14:28:57 - Epoch 14/15 - Evaluation Loss: 0.2053576412796974\n"
     ]
    },
    {
     "data": {
      "application/vnd.jupyter.widget-view+json": {
       "model_id": "f7616f5d598b41d1af1947e3839297af",
       "version_major": 2,
       "version_minor": 0
      },
      "text/plain": [
       "Evaluating:   0%|          | 0/25 [00:00<?, ?it/s]"
      ]
     },
     "metadata": {},
     "output_type": "display_data"
    },
    {
     "name": "stdout",
     "output_type": "stream",
     "text": [
      "2023-10-12 14:29:00 - Epoch 15/15 - Train Loss: 0.0367054227853612\n",
      "2023-10-12 14:29:00 - Epoch 15/15 - Evaluation Loss: 0.20481922388076781\n"
     ]
    }
   ],
   "source": [
    "with model._autocast(dtype=torch.float32):\n",
    "    results = model.fit(\n",
    "        train_set=train_set,\n",
    "        dev_set=test_set,\n",
    "        tokenizer=tokenizer,\n",
    "        label_encoder=label_encoder,\n",
    "        optimizer=optimizer,\n",
    "        criterion=criterion,\n",
    "        num_epochs=15,\n",
    "        max_length=128,\n",
    "        batch_size=32,\n",
    "        device=device,\n",
    "        eval_metrics=[Accuracy, F1, ClasswiseF1],\n",
    "        use_amp=True\n",
    "    )"
   ]
  },
  {
   "cell_type": "code",
   "execution_count": 9,
   "id": "3bb875b8",
   "metadata": {},
   "outputs": [
    {
     "data": {
      "application/vnd.jupyter.widget-view+json": {
       "model_id": "db781b298d7846c08e8ac3b880fa650b",
       "version_major": 2,
       "version_minor": 0
      },
      "text/plain": [
       "Testing:   0%|          | 0/25 [00:00<?, ?it/s]"
      ]
     },
     "metadata": {},
     "output_type": "display_data"
    },
    {
     "data": {
      "text/plain": [
       "defaultdict(<function xtagger.models.rnn.rnn.RNNTagger.evaluate.<locals>.<lambda>()>,\n",
       "            {'test': {'accuracy': 0.9417411621292158,\n",
       "              'classwise_f1': {'.': 0.999780268072951,\n",
       "               'NOUN': 0.7610921501706484,\n",
       "               'DET': 0.9789311408016443,\n",
       "               'ADP': 0.837696335078534,\n",
       "               'X': 0.9964994165694282,\n",
       "               'PRON': 0.9893617021276595,\n",
       "               'PRT': 0.9328894340283862,\n",
       "               'ADJ': 0.9223300970873786,\n",
       "               'VERB': 0.9909747292418772,\n",
       "               'NUM': 0.9811616954474097,\n",
       "               'CONJ': 0.9160333642261352,\n",
       "               'ADV': 0.9762553522771507},\n",
       "              'loss': 0.19694156142381522}})"
      ]
     },
     "execution_count": 9,
     "metadata": {},
     "output_type": "execute_result"
    }
   ],
   "source": [
    "model.evaluate(\n",
    "    test_set=test_set,\n",
    "    tokenizer=tokenizer,\n",
    "    device=device,\n",
    "    label_encoder=label_encoder,\n",
    "    batch_size=32,\n",
    "    max_length=128,\n",
    "    criterion=criterion,\n",
    "    eval_metrics=[Accuracy, ClasswiseF1]\n",
    ")"
   ]
  },
  {
   "cell_type": "code",
   "execution_count": 20,
   "id": "d22a778f",
   "metadata": {},
   "outputs": [
    {
     "data": {
      "application/vnd.jupyter.widget-view+json": {
       "model_id": "e9278d09abbe459a9dda6563c6c8ac94",
       "version_major": 2,
       "version_minor": 0
      },
      "text/plain": [
       "Prediction:   0%|          | 0/1 [00:00<?, ?it/s]"
      ]
     },
     "metadata": {},
     "output_type": "display_data"
    }
   ],
   "source": [
    "idx = random.randint(0, len(train_set)-1)\n",
    "sentence = \" \".join([pair[0] for pair in train_set[idx]])\n",
    "\n",
    "preds = model.predict(\n",
    "    sentence=sentence,\n",
    "    tokenizer=tokenizer,\n",
    "    label_encoder=label_encoder,\n",
    "    device=device,\n",
    ")"
   ]
  },
  {
   "cell_type": "code",
   "execution_count": 21,
   "id": "38b4a417",
   "metadata": {},
   "outputs": [
    {
     "data": {
      "text/plain": [
       "[[('[START]', 'VERB'),\n",
       "  ('the', 'DET'),\n",
       "  ('patent', 'NOUN'),\n",
       "  ('for', 'ADP'),\n",
       "  ('interleukin-3', 'NOUN'),\n",
       "  ('covers', 'VERB'),\n",
       "  ('materials', 'NOUN'),\n",
       "  ('and', 'CONJ'),\n",
       "  ('methods', 'NOUN'),\n",
       "  ('used', 'VERB'),\n",
       "  ('*', 'X'),\n",
       "  ('*', 'X'),\n",
       "  ('to', 'PRT'),\n",
       "  ('make', 'VERB'),\n",
       "  ('the', 'DET'),\n",
       "  ('human', 'ADJ'),\n",
       "  ('blood', 'NOUN'),\n",
       "  ('cell', 'NOUN'),\n",
       "  ('growth', 'NOUN'),\n",
       "  ('factor', 'NOUN'),\n",
       "  ('via', 'ADP'),\n",
       "  ('recombinant', 'ADJ'),\n",
       "  ('dna', 'NOUN'),\n",
       "  ('technology', 'NOUN'),\n",
       "  ('.', '.'),\n",
       "  ('[END]', 'NOUN')]]"
      ]
     },
     "execution_count": 21,
     "metadata": {},
     "output_type": "execute_result"
    }
   ],
   "source": [
    "preds"
   ]
  },
  {
   "cell_type": "code",
   "execution_count": 28,
   "id": "192054fb",
   "metadata": {},
   "outputs": [
    {
     "name": "stdout",
     "output_type": "stream",
     "text": [
      "    },\n",
      "    \"15\": {\n",
      "        \"train\": {\n",
      "            \"loss\": 0.0367054227853612\n",
      "        },\n",
      "        \"eval\": {\n",
      "            \"accuracy\": 0.9417411621292158,\n",
      "            \"f1\": {\n",
      "                \"weighted\": 0.9412477503544329,\n",
      "                \"micro\": 0.9417411621292159,\n",
      "                \"macro\": 0.940250473760767\n",
      "            },\n",
      "            \"classwise_f1\": {\n",
      "                \".\": 0.999780268072951,\n",
      "                \"NOUN\": 0.7610921501706484,\n",
      "                \"DET\": 0.9789311408016443,\n",
      "                \"ADP\": 0.837696335078534,\n",
      "                \"X\": 0.9964994165694282,\n",
      "                \"PRON\": 0.9893617021276595,\n",
      "                \"PRT\": 0.9328894340283862,\n",
      "                \"ADJ\": 0.9223300970873786,\n",
      "                \"VERB\": 0.9909747292418772,\n",
      "                \"NUM\": 0.9811616954474097,\n",
      "                \"CONJ\": 0.9160333642261352,\n",
      "                \"ADV\": 0.9762553522771507\n",
      "            },\n",
      "            \"loss\": 0.20481922388076781\n",
      "        }\n",
      "    }\n",
      "}"
     ]
    }
   ],
   "source": [
    "!tail -n 30 \"out/eval/results.json\" "
   ]
  },
  {
   "cell_type": "code",
   "execution_count": null,
   "id": "5e2795bd",
   "metadata": {},
   "outputs": [],
   "source": []
  }
 ],
 "metadata": {
  "kernelspec": {
   "display_name": "Python 3",
   "language": "python",
   "name": "python3"
  },
  "language_info": {
   "codemirror_mode": {
    "name": "ipython",
    "version": 3
   },
   "file_extension": ".py",
   "mimetype": "text/x-python",
   "name": "python",
   "nbconvert_exporter": "python",
   "pygments_lexer": "ipython3",
   "version": "3.11.0"
  }
 },
 "nbformat": 4,
 "nbformat_minor": 5
}
