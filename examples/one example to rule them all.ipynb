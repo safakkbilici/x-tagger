{
 "cells": [
  {
   "cell_type": "markdown",
   "id": "b0e32a6f",
   "metadata": {},
   "source": [
    "# Hidden Markov Model (bigram)"
   ]
  },
  {
   "cell_type": "code",
   "execution_count": 3,
   "id": "563d475e",
   "metadata": {},
   "outputs": [],
   "source": [
    "from xtagger import HiddenMarkovModel\n",
    "\n",
    "import nltk\n",
    "from sklearn.model_selection import train_test_split\n",
    "\n",
    "nltk_data = list(nltk.corpus.treebank.tagged_sents(tagset='universal'))\n",
    "train_set, test_set = train_test_split(nltk_data,train_size=0.8,test_size=0.2)"
   ]
  },
  {
   "cell_type": "code",
   "execution_count": 4,
   "id": "aa925336",
   "metadata": {},
   "outputs": [
    {
     "data": {
      "application/vnd.jupyter.widget-view+json": {
       "model_id": "689a4ee5e4bf4d5197af85c0976a86ae",
       "version_major": 2,
       "version_minor": 0
      },
      "text/plain": [
       "HBox(children=(FloatProgress(value=0.0, max=12.0), HTML(value='')))"
      ]
     },
     "metadata": {},
     "output_type": "display_data"
    },
    {
     "name": "stdout",
     "output_type": "stream",
     "text": [
      "\n"
     ]
    }
   ],
   "source": [
    "model = HiddenMarkovModel(\n",
    "    extend_to = \"bigram\",\n",
    "    language = \"en\",\n",
    ")\n",
    "\n",
    "model.fit(train_set)"
   ]
  },
  {
   "cell_type": "code",
   "execution_count": 5,
   "id": "dee91ac3",
   "metadata": {},
   "outputs": [
    {
     "data": {
      "application/vnd.jupyter.widget-view+json": {
       "model_id": "fc6946b72c9348ad85c4de408329754d",
       "version_major": 2,
       "version_minor": 0
      },
      "text/plain": [
       "HBox(children=(FloatProgress(value=0.0, max=702.0), HTML(value='')))"
      ]
     },
     "metadata": {},
     "output_type": "display_data"
    },
    {
     "name": "stdout",
     "output_type": "stream",
     "text": [
      "\n"
     ]
    },
    {
     "data": {
      "text/plain": [
       "{'acc': 90.5982905982906,\n",
       " 'avg_recall': {'weigted': 90.5982905982906,\n",
       "  'micro': 90.5982905982906,\n",
       "  'macro': 94.78558992447881}}"
      ]
     },
     "execution_count": 5,
     "metadata": {},
     "output_type": "execute_result"
    }
   ],
   "source": [
    "model.evaluate(\n",
    "    test_set,\n",
    "    random_size = 30,\n",
    "    seed = 15,\n",
    "    eval_metrics = ['acc', 'avg_recall'],\n",
    "    result_type = \"%\",\n",
    ")"
   ]
  },
  {
   "cell_type": "markdown",
   "id": "fdda1bcb",
   "metadata": {},
   "source": [
    "# Hidden Markov Model (trigram)"
   ]
  },
  {
   "cell_type": "code",
   "execution_count": null,
   "id": "c056856a",
   "metadata": {},
   "outputs": [],
   "source": [
    "from xtagger import HiddenMarkovModel\n",
    "\n",
    "import nltk\n",
    "from sklearn.model_selection import train_test_split\n",
    "\n",
    "nltk_data = list(nltk.corpus.treebank.tagged_sents(tagset='universal'))\n",
    "train_set, test_set = train_test_split(nltk_data,train_size=0.8,test_size=0.2)"
   ]
  },
  {
   "cell_type": "code",
   "execution_count": 6,
   "id": "bab5bd17",
   "metadata": {},
   "outputs": [
    {
     "data": {
      "application/vnd.jupyter.widget-view+json": {
       "model_id": "96830864d40f465ea7b3c3f6c710b104",
       "version_major": 2,
       "version_minor": 0
      },
      "text/plain": [
       "HBox(children=(FloatProgress(value=0.0, max=1728.0), HTML(value='')))"
      ]
     },
     "metadata": {},
     "output_type": "display_data"
    },
    {
     "name": "stdout",
     "output_type": "stream",
     "text": [
      "\n"
     ]
    }
   ],
   "source": [
    "model = HiddenMarkovModel(\n",
    "    extend_to = \"trigram\",\n",
    "    language = \"en\",\n",
    ")\n",
    "\n",
    "model.fit(train_set)"
   ]
  },
  {
   "cell_type": "code",
   "execution_count": 7,
   "id": "1439c372",
   "metadata": {},
   "outputs": [
    {
     "data": {
      "application/vnd.jupyter.widget-view+json": {
       "model_id": "82e129fb6fb54f7fb951003093373bb2",
       "version_major": 2,
       "version_minor": 0
      },
      "text/plain": [
       "HBox(children=(FloatProgress(value=0.0, max=101088.0), HTML(value='')))"
      ]
     },
     "metadata": {},
     "output_type": "display_data"
    },
    {
     "name": "stdout",
     "output_type": "stream",
     "text": [
      "\n"
     ]
    },
    {
     "data": {
      "text/plain": [
       "{'acc': 90.31339031339031,\n",
       " 'avg_recall': {'weigted': 90.31339031339031,\n",
       "  'micro': 90.31339031339031,\n",
       "  'macro': 94.70444338704142}}"
      ]
     },
     "execution_count": 7,
     "metadata": {},
     "output_type": "execute_result"
    }
   ],
   "source": [
    "model.evaluate(\n",
    "    test_set,\n",
    "    random_size = 30,\n",
    "    seed = 15,\n",
    "    eval_metrics = ['acc', 'avg_recall'],\n",
    "    result_type = \"%\",\n",
    ")"
   ]
  },
  {
   "cell_type": "code",
   "execution_count": 8,
   "id": "3f5c5cfc",
   "metadata": {},
   "outputs": [
    {
     "data": {
      "application/vnd.jupyter.widget-view+json": {
       "model_id": "30e01dfdf09746a78922a3e55fc94ecb",
       "version_major": 2,
       "version_minor": 0
      },
      "text/plain": [
       "HBox(children=(FloatProgress(value=0.0, max=2016.0), HTML(value='')))"
      ]
     },
     "metadata": {},
     "output_type": "display_data"
    },
    {
     "name": "stdout",
     "output_type": "stream",
     "text": [
      "\n"
     ]
    },
    {
     "data": {
      "text/plain": [
       "[('There', 'DET'),\n",
       " ('are', 'VERB'),\n",
       " ('no', 'DET'),\n",
       " ('two', 'NUM'),\n",
       " ('words', 'NOUN'),\n",
       " ('in', 'ADP'),\n",
       " ('the', 'DET'),\n",
       " ('English', 'ADJ'),\n",
       " ('language', 'NOUN'),\n",
       " ('more', 'ADJ'),\n",
       " ('harmful', 'NUM'),\n",
       " ('than', 'ADP'),\n",
       " ('good', 'ADJ'),\n",
       " ('job', 'NOUN')]"
      ]
     },
     "execution_count": 8,
     "metadata": {},
     "output_type": "execute_result"
    }
   ],
   "source": [
    "s = [\"There\", \"are\", \"no\", \"two\", \"words\", \"in\", \"the\", \"English\", \n",
    "     \"language\", \"more\", \"harmful\", \"than\", \"good\", \"job\"]\n",
    "\n",
    "model.predict(s)"
   ]
  },
  {
   "cell_type": "markdown",
   "id": "40222003",
   "metadata": {},
   "source": [
    "# Hidden Markov Model (deleted interpolation)"
   ]
  },
  {
   "cell_type": "code",
   "execution_count": null,
   "id": "6a4f5dda",
   "metadata": {},
   "outputs": [],
   "source": [
    "from xtagger import HiddenMarkovModel\n",
    "\n",
    "import nltk\n",
    "from sklearn.model_selection import train_test_split\n",
    "\n",
    "nltk_data = list(nltk.corpus.treebank.tagged_sents(tagset='universal'))\n",
    "train_set, test_set = train_test_split(nltk_data,train_size=0.8,test_size=0.2)"
   ]
  },
  {
   "cell_type": "code",
   "execution_count": 9,
   "id": "02877130",
   "metadata": {},
   "outputs": [
    {
     "data": {
      "application/vnd.jupyter.widget-view+json": {
       "model_id": "3e751ceef79a45278b495eb3711ffad8",
       "version_major": 2,
       "version_minor": 0
      },
      "text/plain": [
       "HBox(children=(FloatProgress(value=0.0, max=3456.0), HTML(value='')))"
      ]
     },
     "metadata": {},
     "output_type": "display_data"
    },
    {
     "name": "stdout",
     "output_type": "stream",
     "text": [
      "\n",
      "λ1: 0.32609235044537627, λ2: 0.2947175148251991, λ3: 0.3791901347294246\n"
     ]
    }
   ],
   "source": [
    "model = HiddenMarkovModel(\n",
    "    extend_to = \"deleted_interpolation\",\n",
    "    language = \"en\",\n",
    ")\n",
    "\n",
    "model.fit(train_set)"
   ]
  },
  {
   "cell_type": "code",
   "execution_count": 10,
   "id": "5698bb37",
   "metadata": {},
   "outputs": [
    {
     "data": {
      "application/vnd.jupyter.widget-view+json": {
       "model_id": "9a7e37bcc9524657aa22172c803325a4",
       "version_major": 2,
       "version_minor": 0
      },
      "text/plain": [
       "HBox(children=(FloatProgress(value=0.0, max=101088.0), HTML(value='')))"
      ]
     },
     "metadata": {},
     "output_type": "display_data"
    },
    {
     "name": "stdout",
     "output_type": "stream",
     "text": [
      "\n"
     ]
    },
    {
     "data": {
      "text/plain": [
       "{'acc': 90.17094017094017,\n",
       " 'avg_recall': {'weigted': 90.17094017094017,\n",
       "  'micro': 90.17094017094017,\n",
       "  'macro': 94.26575829762105}}"
      ]
     },
     "execution_count": 10,
     "metadata": {},
     "output_type": "execute_result"
    }
   ],
   "source": [
    "model.evaluate(\n",
    "    test_set,\n",
    "    random_size = 30,\n",
    "    seed = 15,\n",
    "    eval_metrics = ['acc', 'avg_recall'],\n",
    "    result_type = \"%\",\n",
    ")"
   ]
  },
  {
   "cell_type": "markdown",
   "id": "c0082083",
   "metadata": {},
   "source": [
    "# Hidden Markov Model (morphological support)"
   ]
  },
  {
   "cell_type": "code",
   "execution_count": 11,
   "id": "df2ba4a5",
   "metadata": {},
   "outputs": [],
   "source": [
    "from xtagger import HiddenMarkovModel\n",
    "from xtagger import EnglishRegExTagger\n",
    "\n",
    "import nltk\n",
    "from sklearn.model_selection import train_test_split\n",
    "\n",
    "nltk_data = list(nltk.corpus.treebank.tagged_sents(tagset='universal'))\n",
    "train_set, test_set = train_test_split(nltk_data,train_size=0.8,test_size=0.2)"
   ]
  },
  {
   "cell_type": "code",
   "execution_count": 12,
   "id": "17f2a248",
   "metadata": {},
   "outputs": [],
   "source": [
    "rules = [\n",
    "    (r'.*ing$', 'VERB'),\n",
    "    (r'.*ed$',  'VERB'),\n",
    "    (r'.*es$',  'VERB')\n",
    "]\n",
    "\n",
    "morphological_tagger = EnglishRegExTagger(\n",
    "    rules = rules,\n",
    "    use_default = False,\n",
    "    mode = \"morphological\"\n",
    ")"
   ]
  },
  {
   "cell_type": "code",
   "execution_count": 13,
   "id": "3dc79728",
   "metadata": {},
   "outputs": [
    {
     "data": {
      "application/vnd.jupyter.widget-view+json": {
       "model_id": "5894251310f8436293b7c30894a2d237",
       "version_major": 2,
       "version_minor": 0
      },
      "text/plain": [
       "HBox(children=(FloatProgress(value=0.0, max=12.0), HTML(value='')))"
      ]
     },
     "metadata": {},
     "output_type": "display_data"
    },
    {
     "name": "stdout",
     "output_type": "stream",
     "text": [
      "\n"
     ]
    }
   ],
   "source": [
    "model = HiddenMarkovModel(\n",
    "    extend_to = \"bigram\",\n",
    "    language = \"en\",\n",
    "    morphological = morphological_tagger,\n",
    ")\n",
    "\n",
    "model.fit(train_set)"
   ]
  },
  {
   "cell_type": "code",
   "execution_count": 14,
   "id": "5c8b2856",
   "metadata": {},
   "outputs": [
    {
     "data": {
      "application/vnd.jupyter.widget-view+json": {
       "model_id": "055a35d5ef5240ccab8edb645439df5e",
       "version_major": 2,
       "version_minor": 0
      },
      "text/plain": [
       "HBox(children=(FloatProgress(value=0.0, max=717.0), HTML(value='')))"
      ]
     },
     "metadata": {},
     "output_type": "display_data"
    },
    {
     "name": "stdout",
     "output_type": "stream",
     "text": [
      "\n",
      "              precision    recall  f1-score   support\n",
      "\n",
      "         NUM       0.37      1.00      0.54        22\n",
      "        PRON       1.00      1.00      1.00        30\n",
      "        CONJ       0.94      1.00      0.97        15\n",
      "        VERB       0.92      0.94      0.93        90\n",
      "         DET       1.00      0.98      0.99        64\n",
      "         PRT       0.94      1.00      0.97        17\n",
      "        NOUN       0.97      0.84      0.90       198\n",
      "         ADP       1.00      0.97      0.98        90\n",
      "         ADJ       0.87      0.77      0.82        44\n",
      "           .       1.00      1.00      1.00        85\n",
      "           X       1.00      0.92      0.96        37\n",
      "         ADV       0.90      0.76      0.83        25\n",
      "\n",
      "   micro avg       0.92      0.92      0.92       717\n",
      "   macro avg       0.91      0.93      0.91       717\n",
      "weighted avg       0.95      0.92      0.93       717\n",
      " samples avg       0.92      0.92      0.92       717\n",
      "\n"
     ]
    },
    {
     "data": {
      "text/plain": [
       "{'acc': 91.77126917712691}"
      ]
     },
     "execution_count": 14,
     "metadata": {},
     "output_type": "execute_result"
    }
   ],
   "source": [
    "model.evaluate(\n",
    "    test_set,\n",
    "    random_size = 30,\n",
    "    seed = 15,\n",
    "    eval_metrics = ['acc', 'report'],\n",
    "    result_type = \"%\",\n",
    "    morphological = True,\n",
    ")"
   ]
  },
  {
   "cell_type": "markdown",
   "id": "8033c175",
   "metadata": {},
   "source": [
    "# Hidden Markov Model (prior support)"
   ]
  },
  {
   "cell_type": "code",
   "execution_count": 25,
   "id": "3a4ea652",
   "metadata": {},
   "outputs": [],
   "source": [
    "from xtagger import HiddenMarkovModel\n",
    "from xtagger import EnglishRegExTagger\n",
    "\n",
    "import nltk\n",
    "import nltk\n",
    "from sklearn.model_selection import train_test_split\n",
    "\n",
    "nltk_data = list(nltk.corpus.treebank.tagged_sents(tagset='universal'))\n",
    "train_set, test_set = train_test_split(nltk_data,train_size=0.8,test_size=0.2)"
   ]
  },
  {
   "cell_type": "code",
   "execution_count": 26,
   "id": "38c817f1",
   "metadata": {},
   "outputs": [],
   "source": [
    "prior_tagger = EnglishRegExTagger(\n",
    "    rules = rules,\n",
    "    use_default = True,\n",
    "    mode = \"prior\"\n",
    ")"
   ]
  },
  {
   "cell_type": "code",
   "execution_count": 27,
   "id": "dd5a4fcf",
   "metadata": {},
   "outputs": [
    {
     "data": {
      "application/vnd.jupyter.widget-view+json": {
       "model_id": "8904ee4474104ed9851a8293ef1fd958",
       "version_major": 2,
       "version_minor": 0
      },
      "text/plain": [
       "HBox(children=(FloatProgress(value=0.0, max=12.0), HTML(value='')))"
      ]
     },
     "metadata": {},
     "output_type": "display_data"
    },
    {
     "name": "stdout",
     "output_type": "stream",
     "text": [
      "\n"
     ]
    }
   ],
   "source": [
    "model = HiddenMarkovModel(\n",
    "    extend_to = \"bigram\",\n",
    "    language = \"en\",\n",
    "    prior = prior_tagger,\n",
    ")\n",
    "\n",
    "model.fit(train_set)"
   ]
  },
  {
   "cell_type": "code",
   "execution_count": 28,
   "id": "bb91c058",
   "metadata": {},
   "outputs": [
    {
     "data": {
      "application/vnd.jupyter.widget-view+json": {
       "model_id": "bb79886d3af84237b1b2f35033f8d4dc",
       "version_major": 2,
       "version_minor": 0
      },
      "text/plain": [
       "HBox(children=(FloatProgress(value=0.0, max=809.0), HTML(value='')))"
      ]
     },
     "metadata": {},
     "output_type": "display_data"
    },
    {
     "name": "stdout",
     "output_type": "stream",
     "text": [
      "\n"
     ]
    },
    {
     "data": {
      "text/plain": [
       "{'acc': 36.46477132262052,\n",
       " 'avg_recall': {'weigted': 36.46477132262052,\n",
       "  'micro': 36.46477132262052,\n",
       "  'macro': 21.42495914871835}}"
      ]
     },
     "execution_count": 28,
     "metadata": {},
     "output_type": "execute_result"
    }
   ],
   "source": [
    "model.evaluate(\n",
    "    test_set,\n",
    "    random_size = 30,\n",
    "    seed = 15,\n",
    "    eval_metrics = ['acc', 'avg_recall'],\n",
    "    result_type = \"%\",\n",
    "    prior = True,\n",
    ")"
   ]
  },
  {
   "cell_type": "markdown",
   "id": "2728b20d",
   "metadata": {},
   "source": [
    "# Hidden Markov Model (user defined metric)"
   ]
  },
  {
   "cell_type": "code",
   "execution_count": 29,
   "id": "58bdcade",
   "metadata": {},
   "outputs": [],
   "source": [
    "from xtagger import HiddenMarkovModel\n",
    "from xtagger import EnglishRegExTagger\n",
    "from xtagger import xMetrics\n",
    "\n",
    "import nltk\n",
    "import nltk\n",
    "from sklearn.model_selection import train_test_split\n",
    "\n",
    "nltk_data = list(nltk.corpus.treebank.tagged_sents(tagset='universal'))\n",
    "train_set, test_set = train_test_split(nltk_data,train_size=0.8,test_size=0.2)"
   ]
  },
  {
   "cell_type": "code",
   "execution_count": 30,
   "id": "26a066e3",
   "metadata": {},
   "outputs": [
    {
     "data": {
      "application/vnd.jupyter.widget-view+json": {
       "model_id": "036f79d56f0e4450b980f8399b04e27c",
       "version_major": 2,
       "version_minor": 0
      },
      "text/plain": [
       "HBox(children=(FloatProgress(value=0.0, max=12.0), HTML(value='')))"
      ]
     },
     "metadata": {},
     "output_type": "display_data"
    },
    {
     "name": "stdout",
     "output_type": "stream",
     "text": [
      "\n"
     ]
    }
   ],
   "source": [
    "model = HiddenMarkovModel(\n",
    "    extend_to = \"bigram\",\n",
    "    language = \"en\"\n",
    ")\n",
    "\n",
    "model.fit(train_set)"
   ]
  },
  {
   "cell_type": "code",
   "execution_count": 31,
   "id": "fb10361e",
   "metadata": {},
   "outputs": [],
   "source": [
    "class MyAcc(xMetrics):\n",
    "    def __init__(self, y_true, y_pred, tags):\n",
    "        super(MyAcc, self).__init__(y_true, y_pred, tags)\n",
    "        \n",
    "    def __call__(self):\n",
    "        import numpy as np\n",
    "        acc = 0\n",
    "        for gt, pred in zip(self.y_true, self.y_pred):\n",
    "            gt_index   = np.where(gt == 1)[0].item()\n",
    "            pred_index = np.where(pred == 1)[0].item()\n",
    "            \n",
    "            if gt_index == pred_index:\n",
    "                acc += 1\n",
    "                \n",
    "        return acc / self.y_true.shape[0]"
   ]
  },
  {
   "cell_type": "code",
   "execution_count": 32,
   "id": "03596049",
   "metadata": {},
   "outputs": [
    {
     "data": {
      "application/vnd.jupyter.widget-view+json": {
       "model_id": "2c644e4728aa4b819608ce6ede9f1fa7",
       "version_major": 2,
       "version_minor": 0
      },
      "text/plain": [
       "HBox(children=(FloatProgress(value=0.0, max=306.0), HTML(value='')))"
      ]
     },
     "metadata": {},
     "output_type": "display_data"
    },
    {
     "name": "stdout",
     "output_type": "stream",
     "text": [
      "\n"
     ]
    },
    {
     "data": {
      "text/plain": [
       "{'acc': 94.11764705882352,\n",
       " 'classwise_precision': {'NUM': 51.724137931034484,\n",
       "  'PRON': 100.0,\n",
       "  'CONJ': 100.0,\n",
       "  'VERB': 100.0,\n",
       "  'DET': 96.96969696969697,\n",
       "  'PRT': 100.0,\n",
       "  'NOUN': 100.0,\n",
       "  'ADP': 97.5609756097561,\n",
       "  'ADJ': 100.0,\n",
       "  '.': 100.0,\n",
       "  'X': 100.0,\n",
       "  'ADV': 50.0},\n",
       " 'MyAcc': 0.9411764705882353}"
      ]
     },
     "execution_count": 32,
     "metadata": {},
     "output_type": "execute_result"
    }
   ],
   "source": [
    "model.evaluate(\n",
    "    test_set,\n",
    "    random_size = 10,\n",
    "    seed = 15,\n",
    "    eval_metrics = ['acc', 'classwise_precision', MyAcc],\n",
    "    result_type = \"%\",\n",
    "    prior = True,\n",
    ")"
   ]
  },
  {
   "cell_type": "markdown",
   "id": "9e3ac317",
   "metadata": {},
   "source": [
    "# LSTM"
   ]
  },
  {
   "cell_type": "code",
   "execution_count": 1,
   "id": "b93a2152",
   "metadata": {},
   "outputs": [
    {
     "name": "stdout",
     "output_type": "stream",
     "text": [
      "Number of training examples: 8758\n",
      "Number of testing examples: 2190\n",
      "Unique tokens in TEXT vocabulary: 17385\n",
      "Unique tokens in TAGS vocabulary: 13\n"
     ]
    }
   ],
   "source": [
    "import nltk\n",
    "from sklearn.model_selection import train_test_split\n",
    "\n",
    "import torch\n",
    "from xtagger import LSTMForTagging\n",
    "from xtagger import xtagger_dataset_to_df, df_to_torchtext_data\n",
    "\n",
    "\n",
    "nltk_data = list(nltk.corpus.conll2000.tagged_sents(tagset='universal'))\n",
    "train_set, test_set = train_test_split(nltk_data,train_size=0.8,test_size=0.2)\n",
    "\n",
    "df_train = xtagger_dataset_to_df(train_set)\n",
    "df_test = xtagger_dataset_to_df(test_set)\n",
    "\n",
    "device = torch.device(\"cuda\" if torch.cuda.is_available() else \"cpu\")\n",
    "train_iterator, valid_iterator, test_iterator, TEXT, TAGS = df_to_torchtext_data(\n",
    "    df_train, \n",
    "    df_test, \n",
    "    device, \n",
    "    batch_size = 32\n",
    ")"
   ]
  },
  {
   "cell_type": "code",
   "execution_count": 2,
   "id": "4ca24c8a",
   "metadata": {},
   "outputs": [
    {
     "name": "stdout",
     "output_type": "stream",
     "text": [
      "The model has 2,372,625 trainable parameters\n"
     ]
    }
   ],
   "source": [
    "input_dim = len(TEXT.vocab)\n",
    "out_dim = len(TAGS.vocab)\n",
    "pad_idx = TEXT.vocab.stoi[TEXT.pad_token]\n",
    "tag_pad_idx = TAGS.vocab.stoi[TAGS.pad_token]\n",
    "\n",
    "\n",
    "model = LSTMForTagging(\n",
    "    input_dim, \n",
    "    out_dim, \n",
    "    TEXT, \n",
    "    TAGS, \n",
    "    cuda=True\n",
    ")"
   ]
  },
  {
   "cell_type": "code",
   "execution_count": 3,
   "id": "625dfd59",
   "metadata": {},
   "outputs": [
    {
     "data": {
      "application/vnd.jupyter.widget-view+json": {
       "model_id": "fbd338c503634a3499d7f47b3b4ad32c",
       "version_major": 2,
       "version_minor": 0
      },
      "text/plain": [
       "HBox(children=(FloatProgress(value=0.0, max=822.0), HTML(value='')))"
      ]
     },
     "metadata": {},
     "output_type": "display_data"
    },
    {
     "name": "stdout",
     "output_type": "stream",
     "text": [
      "Evaluating...\n"
     ]
    },
    {
     "data": {
      "application/vnd.jupyter.widget-view+json": {
       "model_id": "7690e4dd79804159b53f9989ccd4519d",
       "version_major": 2,
       "version_minor": 0
      },
      "text/plain": [
       "HBox(children=(FloatProgress(value=0.0, max=343.0), HTML(value='')))"
      ]
     },
     "metadata": {},
     "output_type": "display_data"
    },
    {
     "name": "stdout",
     "output_type": "stream",
     "text": [
      "\n",
      "{'eval': {'acc': 94.89803741183685, 'avg_f1': {'weighted': 94.83446190272467, 'micro': 94.89803741183685, 'macro': 80.29061953217816}}, 'train': {'acc': 95.86812804453723, 'avg_f1': {'weighted': 95.8163241747707, 'micro': 95.86812804453723, 'macro': 81.04660665829542}}, 'eval_loss': 0.15775534607793973, 'train_loss': 0.13121628212015124}\n",
      "Evaluating...\n"
     ]
    },
    {
     "data": {
      "application/vnd.jupyter.widget-view+json": {
       "model_id": "c79ba1f070e44300a379db4aaa388c61",
       "version_major": 2,
       "version_minor": 0
      },
      "text/plain": [
       "HBox(children=(FloatProgress(value=0.0, max=343.0), HTML(value='')))"
      ]
     },
     "metadata": {},
     "output_type": "display_data"
    },
    {
     "name": "stdout",
     "output_type": "stream",
     "text": [
      "\n",
      "{'eval': {'acc': 96.79546151487274, 'avg_f1': {'weighted': 96.80615410670855, 'micro': 96.79546151487274, 'macro': 81.93059608544998}}, 'train': {'acc': 98.36029923451636, 'avg_f1': {'weighted': 98.34978517904864, 'micro': 98.36029923451636, 'macro': 83.17007350815857}}, 'eval_loss': 0.09765658047104227, 'train_loss': 0.053714395731850696}\n",
      "Evaluating...\n"
     ]
    },
    {
     "data": {
      "application/vnd.jupyter.widget-view+json": {
       "model_id": "4e581b2e548647f58ff0bfeff79f8831",
       "version_major": 2,
       "version_minor": 0
      },
      "text/plain": [
       "HBox(children=(FloatProgress(value=0.0, max=343.0), HTML(value='')))"
      ]
     },
     "metadata": {},
     "output_type": "display_data"
    },
    {
     "name": "stdout",
     "output_type": "stream",
     "text": [
      "\n",
      "{'eval': {'acc': 97.34360625574978, 'avg_f1': {'weighted': 97.34907310177117, 'micro': 97.34360625574978, 'macro': 82.48313661755341}}, 'train': {'acc': 99.14173045697055, 'avg_f1': {'weighted': 99.12927282176535, 'micro': 99.14173045697055, 'macro': 83.87137727244681}}, 'eval_loss': 0.08171060540969821, 'train_loss': 0.028569950229304766}\n",
      "\n"
     ]
    }
   ],
   "source": [
    "model.fit(\n",
    "    train_iterator,\n",
    "    test_iterator, \n",
    "    epochs = 3,\n",
    "    eval_metrics=[\"acc\", \"avg_f1\"]\n",
    ")"
   ]
  },
  {
   "cell_type": "code",
   "execution_count": 4,
   "id": "ee98db1e",
   "metadata": {},
   "outputs": [
    {
     "data": {
      "application/vnd.jupyter.widget-view+json": {
       "model_id": "7dd96569553a4429996cd9ecf68f5188",
       "version_major": 2,
       "version_minor": 0
      },
      "text/plain": [
       "HBox(children=(FloatProgress(value=0.0, max=69.0), HTML(value='')))"
      ]
     },
     "metadata": {},
     "output_type": "display_data"
    },
    {
     "name": "stdout",
     "output_type": "stream",
     "text": [
      "\n"
     ]
    },
    {
     "data": {
      "text/plain": [
       "{'acc': 97.34355534259703}"
      ]
     },
     "execution_count": 4,
     "metadata": {},
     "output_type": "execute_result"
    }
   ],
   "source": [
    "model.evaluate(valid_iterator)"
   ]
  },
  {
   "cell_type": "code",
   "execution_count": 5,
   "id": "ec065671",
   "metadata": {},
   "outputs": [
    {
     "data": {
      "text/plain": [
       "([('there', 'DET'),\n",
       "  ('are', 'VERB'),\n",
       "  ('no', 'DET'),\n",
       "  ('two', 'NUM'),\n",
       "  ('words', 'NOUN'),\n",
       "  ('in', 'ADP'),\n",
       "  ('the', 'DET'),\n",
       "  ('english', 'NOUN'),\n",
       "  ('language', 'NOUN'),\n",
       "  ('more', 'ADV'),\n",
       "  ('harmful', 'ADJ'),\n",
       "  ('than', 'ADP'),\n",
       "  ('good', 'ADJ'),\n",
       "  ('job', 'NOUN')],\n",
       " ['harmful'])"
      ]
     },
     "execution_count": 5,
     "metadata": {},
     "output_type": "execute_result"
    }
   ],
   "source": [
    "s = [\"There\", \"are\", \"no\", \"two\", \"words\", \"in\", \"the\", \"English\", \n",
    "     \"language\", \"more\", \"harmful\", \"than\", \"good\", \"job\"]\n",
    "model.predict(s)"
   ]
  },
  {
   "cell_type": "markdown",
   "id": "22a9c4e0",
   "metadata": {},
   "source": [
    "# LSTM With Checkpointing"
   ]
  },
  {
   "cell_type": "code",
   "execution_count": 6,
   "id": "db6047aa",
   "metadata": {},
   "outputs": [
    {
     "name": "stdout",
     "output_type": "stream",
     "text": [
      "Number of training examples: 8758\n",
      "Number of testing examples: 2190\n",
      "Unique tokens in TEXT vocabulary: 17430\n",
      "Unique tokens in TAGS vocabulary: 13\n"
     ]
    }
   ],
   "source": [
    "import nltk\n",
    "from sklearn.model_selection import train_test_split\n",
    "\n",
    "import torch\n",
    "from xtagger import LSTMForTagging\n",
    "from xtagger import xtagger_dataset_to_df, df_to_torchtext_data\n",
    "\n",
    "\n",
    "nltk_data = list(nltk.corpus.conll2000.tagged_sents(tagset='universal'))\n",
    "train_set, test_set = train_test_split(nltk_data,train_size=0.8,test_size=0.2)\n",
    "\n",
    "df_train = xtagger_dataset_to_df(train_set)\n",
    "df_test = xtagger_dataset_to_df(test_set)\n",
    "\n",
    "device = torch.device(\"cuda\" if torch.cuda.is_available() else \"cpu\")\n",
    "train_iterator, valid_iterator, test_iterator, TEXT, TAGS = df_to_torchtext_data(\n",
    "    df_train, \n",
    "    df_test, \n",
    "    device, \n",
    "    batch_size = 32\n",
    ")"
   ]
  },
  {
   "cell_type": "code",
   "execution_count": 6,
   "id": "5224c8f6",
   "metadata": {},
   "outputs": [
    {
     "name": "stdout",
     "output_type": "stream",
     "text": [
      "The model has 2,372,625 trainable parameters\n"
     ]
    }
   ],
   "source": [
    "input_dim = len(TEXT.vocab)\n",
    "out_dim = len(TAGS.vocab)\n",
    "pad_idx = TEXT.vocab.stoi[TEXT.pad_token]\n",
    "tag_pad_idx = TAGS.vocab.stoi[TAGS.pad_token]\n",
    "\n",
    "\n",
    "model = LSTMForTagging(\n",
    "    input_dim, \n",
    "    out_dim, \n",
    "    TEXT, \n",
    "    TAGS, \n",
    "    cuda=True\n",
    ")"
   ]
  },
  {
   "cell_type": "code",
   "execution_count": 9,
   "id": "7de06a30",
   "metadata": {},
   "outputs": [],
   "source": [
    "from xtagger import Checkpointing\n",
    "checkpointing = Checkpointing(\n",
    "    model_path = \"./\", \n",
    "    model_name = \"lstm_tagger.pt\", \n",
    "    monitor = \"eval_acc\",\n",
    "    mode = \"maximize\",\n",
    "    verbose = 1\n",
    ")"
   ]
  },
  {
   "cell_type": "code",
   "execution_count": 11,
   "id": "df0468b9",
   "metadata": {},
   "outputs": [
    {
     "data": {
      "application/vnd.jupyter.widget-view+json": {
       "model_id": "d09edf123ad24467a5543852c65ac5e8",
       "version_major": 2,
       "version_minor": 0
      },
      "text/plain": [
       "HBox(children=(FloatProgress(value=0.0, max=822.0), HTML(value='')))"
      ]
     },
     "metadata": {},
     "output_type": "display_data"
    },
    {
     "name": "stdout",
     "output_type": "stream",
     "text": [
      "Evaluating...\n"
     ]
    },
    {
     "data": {
      "application/vnd.jupyter.widget-view+json": {
       "model_id": "4febd5c95bcf4a8a9cd296db4452b4f4",
       "version_major": 2,
       "version_minor": 0
      },
      "text/plain": [
       "HBox(children=(FloatProgress(value=0.0, max=343.0), HTML(value='')))"
      ]
     },
     "metadata": {},
     "output_type": "display_data"
    },
    {
     "name": "stdout",
     "output_type": "stream",
     "text": [
      "\n",
      "Model is saved with eval_acc = 94.959368291935\n",
      "{'eval': {'acc': 94.959368291935, 'avg_f1': {'weighted': 94.89236698344878, 'micro': 94.959368291935, 'macro': 80.32638441433846}}, 'train': {'acc': 96.01648882703162, 'avg_f1': {'weighted': 95.98749387384105, 'micro': 96.01648882703162, 'macro': 81.11227149023092}}, 'eval_loss': 0.15850219357272852, 'train_loss': 0.12928859462594464}\n",
      "Evaluating...\n"
     ]
    },
    {
     "data": {
      "application/vnd.jupyter.widget-view+json": {
       "model_id": "18673ff548b44d18bd97c053ede3e99f",
       "version_major": 2,
       "version_minor": 0
      },
      "text/plain": [
       "HBox(children=(FloatProgress(value=0.0, max=343.0), HTML(value='')))"
      ]
     },
     "metadata": {},
     "output_type": "display_data"
    },
    {
     "name": "stdout",
     "output_type": "stream",
     "text": [
      "\n",
      "Model is saved with eval_acc = 96.82421036491874\n",
      "{'eval': {'acc': 96.82421036491874, 'avg_f1': {'weighted': 96.78855053753105, 'micro': 96.82421036491874, 'macro': 82.02406188757104}}, 'train': {'acc': 98.48256398360783, 'avg_f1': {'weighted': 98.46880943368681, 'micro': 98.48256398360783, 'macro': 83.30675889478326}}, 'eval_loss': 0.09872278036630672, 'train_loss': 0.05145323381888388}\n",
      "Evaluating...\n"
     ]
    },
    {
     "data": {
      "application/vnd.jupyter.widget-view+json": {
       "model_id": "ef6c715804a14db28d1b773a9011d5da",
       "version_major": 2,
       "version_minor": 0
      },
      "text/plain": [
       "HBox(children=(FloatProgress(value=0.0, max=343.0), HTML(value='')))"
      ]
     },
     "metadata": {},
     "output_type": "display_data"
    },
    {
     "name": "stdout",
     "output_type": "stream",
     "text": [
      "\n",
      "Model is saved with eval_acc = 97.2669426556271\n",
      "{'eval': {'acc': 97.2669426556271, 'avg_f1': {'weighted': 97.24130569304464, 'micro': 97.2669426556271, 'macro': 82.4032560805827}}, 'train': {'acc': 99.10403618649966, 'avg_f1': {'weighted': 99.09503083629303, 'micro': 99.10403618649966, 'macro': 85.09768069604601}}, 'eval_loss': 0.08675712697963783, 'train_loss': 0.029156454481918663}\n",
      "\n"
     ]
    }
   ],
   "source": [
    "model.fit(\n",
    "    train_iterator,\n",
    "    test_iterator, \n",
    "    epochs = 3,\n",
    "    eval_metrics=[\"acc\", \"avg_f1\"],\n",
    "    checkpointing = checkpointing\n",
    ")"
   ]
  },
  {
   "cell_type": "code",
   "execution_count": 12,
   "id": "b75f79d2",
   "metadata": {},
   "outputs": [
    {
     "name": "stdout",
     "output_type": "stream",
     "text": [
      "The model has 2,372,625 trainable parameters\n"
     ]
    },
    {
     "data": {
      "application/vnd.jupyter.widget-view+json": {
       "model_id": "3d48c971ee0f48fba799ebe9291492dd",
       "version_major": 2,
       "version_minor": 0
      },
      "text/plain": [
       "HBox(children=(FloatProgress(value=0.0, max=69.0), HTML(value='')))"
      ]
     },
     "metadata": {},
     "output_type": "display_data"
    },
    {
     "name": "stdout",
     "output_type": "stream",
     "text": [
      "\n"
     ]
    },
    {
     "data": {
      "text/plain": [
       "{'acc': 97.26689027311932}"
      ]
     },
     "execution_count": 12,
     "metadata": {},
     "output_type": "execute_result"
    }
   ],
   "source": [
    "model = LSTMForTagging(input_dim, out_dim, TEXT, TAGS, cuda=True)\n",
    "model = checkpointing.load(model)\n",
    "model.evaluate(valid_iterator)"
   ]
  },
  {
   "cell_type": "markdown",
   "id": "dc9670fe",
   "metadata": {},
   "source": [
    "# User Defined Models With x-tagger Wrapper (toy example)"
   ]
  },
  {
   "cell_type": "code",
   "execution_count": 14,
   "id": "7cac72a2",
   "metadata": {},
   "outputs": [
    {
     "name": "stdout",
     "output_type": "stream",
     "text": [
      "Number of training examples: 8758\n",
      "Number of testing examples: 2190\n",
      "Unique tokens in TEXT vocabulary: 17533\n",
      "Unique tokens in TAGS vocabulary: 13\n"
     ]
    }
   ],
   "source": [
    "import nltk\n",
    "from sklearn.model_selection import train_test_split\n",
    "\n",
    "import torch\n",
    "from xtagger import LSTMForTagging\n",
    "from xtagger import xtagger_dataset_to_df, df_to_torchtext_data\n",
    "\n",
    "\n",
    "nltk_data = list(nltk.corpus.conll2000.tagged_sents(tagset='universal'))\n",
    "train_set, test_set = train_test_split(nltk_data,train_size=0.8,test_size=0.2)\n",
    "\n",
    "df_train = xtagger_dataset_to_df(train_set)\n",
    "df_test = xtagger_dataset_to_df(test_set)\n",
    "\n",
    "device = torch.device(\"cuda\" if torch.cuda.is_available() else \"cpu\")\n",
    "train_iterator, valid_iterator, test_iterator, TEXT, TAGS = df_to_torchtext_data(\n",
    "    df_train, \n",
    "    df_test, \n",
    "    device, \n",
    "    batch_size = 32\n",
    ")"
   ]
  },
  {
   "cell_type": "code",
   "execution_count": 15,
   "id": "1f758f14",
   "metadata": {},
   "outputs": [],
   "source": [
    "import torch\n",
    "import torch.nn as nn\n",
    "\n",
    "class CNNTagger(nn.Module):\n",
    "    def __init__(self, n_tags,  out_channels = 1):\n",
    "        super(CNNTagger, self).__init__()\n",
    "        self.n_tags = n_tags\n",
    "        self.out_channels = out_channels\n",
    "        self.cnn1 = nn.Conv1d(\n",
    "            in_channels = 1, \n",
    "            out_channels = self.out_channels, \n",
    "            kernel_size=3, \n",
    "            padding=1\n",
    "        )\n",
    "        \n",
    "        self.cnn2 = nn.Conv1d(\n",
    "            in_channels = 1, \n",
    "            out_channels = self.out_channels, \n",
    "            kernel_size=5, \n",
    "            padding=2\n",
    "        )\n",
    "        \n",
    "        self.cnn3 = nn.Conv1d(\n",
    "            in_channels = 1, \n",
    "            out_channels = self.out_channels, \n",
    "            kernel_size=7, \n",
    "            padding=3\n",
    "        )\n",
    "        \n",
    "        self.dropout = nn.Dropout()\n",
    "        self.relu = nn.ReLU()\n",
    "        self.tanh = nn.Tanh()\n",
    "        self.fcn_1 = nn.Linear(self.out_channels, 5)\n",
    "        self.fcn_out = nn.Linear(5, self.n_tags)\n",
    "        \n",
    "        \n",
    "    def forward(self, x):\n",
    "        x = x[:,None,:].cuda().float()\n",
    "        out1 = self.relu(self.cnn1(x))\n",
    "        out2 = self.relu(self.dropout(self.cnn2(x)))\n",
    "        out3 = self.relu(self.dropout(self.cnn3(x)))\n",
    "        out = (out1 + out2 + out3) / 3 # B x 3 x 7\n",
    "        out = self.fcn_1(out.permute(0,2,1))\n",
    "        out = self.fcn_out(out)\n",
    "        return out"
   ]
  },
  {
   "cell_type": "code",
   "execution_count": 18,
   "id": "bd52496b",
   "metadata": {},
   "outputs": [],
   "source": [
    "from xtagger import PyTorchTrainer\n",
    "\n",
    "device = torch.device(\"cuda\" if torch.cuda.is_available() else \"cpu\")\n",
    "model = CNNTagger(13,3).to(device)\n",
    "optimizer = torch.optim.Adam(model.parameters())\n",
    "criterion = torch.nn.CrossEntropyLoss(ignore_index = 0)\n",
    "\n",
    "\n",
    "trainer = PyTorchTrainer(\n",
    "    model = model,\n",
    "    criterion = criterion,\n",
    "    optimizer = optimizer,\n",
    "    device = device,\n",
    "    train_iterator = train_iterator,\n",
    "    val_iterator = test_iterator,\n",
    "    TAGS = TAGS,\n",
    "    TEXT = TEXT\n",
    ")"
   ]
  },
  {
   "cell_type": "code",
   "execution_count": 19,
   "id": "fdcf5db4",
   "metadata": {},
   "outputs": [
    {
     "data": {
      "application/vnd.jupyter.widget-view+json": {
       "model_id": "a189620ec9e34f69b651acfdac54d7da",
       "version_major": 2,
       "version_minor": 0
      },
      "text/plain": [
       "HBox(children=(FloatProgress(value=0.0, max=822.0), HTML(value='')))"
      ]
     },
     "metadata": {},
     "output_type": "display_data"
    },
    {
     "name": "stdout",
     "output_type": "stream",
     "text": [
      "Evaluating...\n"
     ]
    },
    {
     "data": {
      "application/vnd.jupyter.widget-view+json": {
       "model_id": "af030682c1e64b0e9e6b1dbbbb222ba2",
       "version_major": 2,
       "version_minor": 0
      },
      "text/plain": [
       "HBox(children=(FloatProgress(value=0.0, max=343.0), HTML(value='')))"
      ]
     },
     "metadata": {},
     "output_type": "display_data"
    },
    {
     "name": "stdout",
     "output_type": "stream",
     "text": [
      "\n",
      "{'eval': {'acc': 14.896630406987038}, 'train': {'acc': 14.798311782471538}, 'eval_loss': 16.651905405348625, 'train_loss': 20.64160191055632}\n",
      "Evaluating...\n"
     ]
    },
    {
     "data": {
      "application/vnd.jupyter.widget-view+json": {
       "model_id": "334b201f45e146efaaec833957058a24",
       "version_major": 2,
       "version_minor": 0
      },
      "text/plain": [
       "HBox(children=(FloatProgress(value=0.0, max=343.0), HTML(value='')))"
      ]
     },
     "metadata": {},
     "output_type": "display_data"
    },
    {
     "name": "stdout",
     "output_type": "stream",
     "text": [
      "\n",
      "{'eval': {'acc': 30.601727088537878}, 'train': {'acc': 30.296686464970445}, 'eval_loss': 2.688630974811056, 'train_loss': 2.7951144632631846}\n",
      "Evaluating...\n"
     ]
    },
    {
     "data": {
      "application/vnd.jupyter.widget-view+json": {
       "model_id": "6b5dc9a8e502414889a30b0bb1eaf4be",
       "version_major": 2,
       "version_minor": 0
      },
      "text/plain": [
       "HBox(children=(FloatProgress(value=0.0, max=343.0), HTML(value='')))"
      ]
     },
     "metadata": {},
     "output_type": "display_data"
    },
    {
     "name": "stdout",
     "output_type": "stream",
     "text": [
      "\n",
      "{'eval': {'acc': 30.593858803627278}, 'train': {'acc': 30.31157120427144}, 'eval_loss': 2.305877951608188, 'train_loss': 2.32932799837015}\n",
      "\n"
     ]
    }
   ],
   "source": [
    "trainer.train(3)"
   ]
  }
 ],
 "metadata": {
  "kernelspec": {
   "display_name": "Python 3",
   "language": "python",
   "name": "python3"
  },
  "language_info": {
   "codemirror_mode": {
    "name": "ipython",
    "version": 3
   },
   "file_extension": ".py",
   "mimetype": "text/x-python",
   "name": "python",
   "nbconvert_exporter": "python",
   "pygments_lexer": "ipython3",
   "version": "3.7.10"
  }
 },
 "nbformat": 4,
 "nbformat_minor": 5
}
