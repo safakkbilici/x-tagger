{
 "cells": [
  {
   "cell_type": "markdown",
   "id": "8d7b87e7",
   "metadata": {},
   "source": [
    "# Model Checkpointing"
   ]
  },
  {
   "cell_type": "code",
   "execution_count": 1,
   "id": "d7943057",
   "metadata": {},
   "outputs": [
    {
     "name": "stdout",
     "output_type": "stream",
     "text": [
      "Number of training examples: 8758\n",
      "Number of testing examples: 2190\n",
      "Unique tokens in TEXT vocabulary: 17491\n",
      "Unique tokens in TAGS vocabulary: 13\n"
     ]
    }
   ],
   "source": [
    "import nltk\n",
    "from sklearn.model_selection import train_test_split\n",
    "\n",
    "import torch\n",
    "from xtagger import LSTMForTagging\n",
    "from xtagger import xtagger_dataset_to_df, df_to_torchtext_data\n",
    "\n",
    "\n",
    "nltk_data = list(nltk.corpus.conll2000.tagged_sents(tagset='universal'))\n",
    "train_set, test_set = train_test_split(nltk_data,train_size=0.8,test_size=0.2)\n",
    "\n",
    "df_train = xtagger_dataset_to_df(train_set)\n",
    "df_test = xtagger_dataset_to_df(test_set)\n",
    "\n",
    "device = torch.device(\"cuda\" if torch.cuda.is_available() else \"cpu\")\n",
    "train_iterator, valid_iterator, test_iterator, TEXT, TAGS = df_to_torchtext_data(\n",
    "    df_train, \n",
    "    df_test, \n",
    "    device, \n",
    "    batch_size = 32\n",
    ")"
   ]
  },
  {
   "cell_type": "code",
   "execution_count": 2,
   "id": "acfde9a1",
   "metadata": {},
   "outputs": [
    {
     "name": "stdout",
     "output_type": "stream",
     "text": [
      "The model has 2,383,225 trainable parameters\n"
     ]
    }
   ],
   "source": [
    "input_dim = len(TEXT.vocab)\n",
    "out_dim = len(TAGS.vocab)\n",
    "pad_idx = TEXT.vocab.stoi[TEXT.pad_token]\n",
    "tag_pad_idx = TAGS.vocab.stoi[TAGS.pad_token]\n",
    "\n",
    "\n",
    "model = LSTMForTagging(\n",
    "    input_dim, \n",
    "    out_dim, \n",
    "    TEXT, \n",
    "    TAGS, \n",
    "    cuda=True\n",
    ")"
   ]
  },
  {
   "cell_type": "code",
   "execution_count": 3,
   "id": "54dd6107",
   "metadata": {},
   "outputs": [],
   "source": [
    "from xtagger import Checkpointing\n",
    "\n",
    "checkpointing = Checkpointing(\n",
    "    model_path = \"./\", \n",
    "    model_name = \"lstm_tagger.pt\", \n",
    "    monitor = \"eval_acc\",\n",
    "    mode = \"maximize\",\n",
    "    verbose = 1\n",
    ")"
   ]
  },
  {
   "cell_type": "code",
   "execution_count": 4,
   "id": "b73f273a",
   "metadata": {},
   "outputs": [
    {
     "data": {
      "application/vnd.jupyter.widget-view+json": {
       "model_id": "f113db45f835438ca9165c256b056529",
       "version_major": 2,
       "version_minor": 0
      },
      "text/plain": [
       "HBox(children=(FloatProgress(value=0.0, max=822.0), HTML(value='')))"
      ]
     },
     "metadata": {},
     "output_type": "display_data"
    },
    {
     "name": "stdout",
     "output_type": "stream",
     "text": [
      "Evaluating...\n"
     ]
    },
    {
     "data": {
      "application/vnd.jupyter.widget-view+json": {
       "model_id": "cb580f2a76924944b656c0d7cfea6cef",
       "version_major": 2,
       "version_minor": 0
      },
      "text/plain": [
       "HBox(children=(FloatProgress(value=0.0, max=343.0), HTML(value='')))"
      ]
     },
     "metadata": {},
     "output_type": "display_data"
    },
    {
     "name": "stdout",
     "output_type": "stream",
     "text": [
      "\n",
      "Model is saved with eval_acc = 94.85701151186623\n",
      "{'eval': {'acc': 94.85701151186623, 'avg_f1': {'weighted': 94.82745513314725, 'micro': 94.85701151186623, 'macro': 80.37216870819536}}, 'train': {'acc': 96.05600854531482, 'avg_f1': {'weighted': 96.02388608634264, 'micro': 96.05600854531482, 'macro': 81.20326678273354}}, 'eval_loss': 0.1590846738089686, 'train_loss': 0.12938480307586}\n",
      "Evaluating...\n"
     ]
    },
    {
     "data": {
      "application/vnd.jupyter.widget-view+json": {
       "model_id": "b3498dda8d1547c5a9b959c381915456",
       "version_major": 2,
       "version_minor": 0
      },
      "text/plain": [
       "HBox(children=(FloatProgress(value=0.0, max=343.0), HTML(value='')))"
      ]
     },
     "metadata": {},
     "output_type": "display_data"
    },
    {
     "name": "stdout",
     "output_type": "stream",
     "text": [
      "\n",
      "Model is saved with eval_acc = 96.49472292987531\n",
      "{'eval': {'acc': 96.49472292987531, 'avg_f1': {'weighted': 96.4709498115255, 'micro': 96.49472292987531, 'macro': 81.70669100607397}}, 'train': {'acc': 98.34652024920612, 'avg_f1': {'weighted': 98.32902543494357, 'micro': 98.34652024920612, 'macro': 83.1959257568548}}, 'eval_loss': 0.1038704178687455, 'train_loss': 0.05422311709908238}\n",
      "Evaluating...\n"
     ]
    },
    {
     "data": {
      "application/vnd.jupyter.widget-view+json": {
       "model_id": "27fc594d30e541d785a4470e839f2715",
       "version_major": 2,
       "version_minor": 0
      },
      "text/plain": [
       "HBox(children=(FloatProgress(value=0.0, max=343.0), HTML(value='')))"
      ]
     },
     "metadata": {},
     "output_type": "display_data"
    },
    {
     "name": "stdout",
     "output_type": "stream",
     "text": [
      "\n",
      "Model is saved with eval_acc = 96.8260961173789\n",
      "{'eval': {'acc': 96.8260961173789, 'avg_f1': {'weighted': 96.82928259419015, 'micro': 96.8260961173789, 'macro': 82.06780272336617}}, 'train': {'acc': 99.08795197610405, 'avg_f1': {'weighted': 99.0761306178256, 'micro': 99.08795197610405, 'macro': 83.83178471296974}}, 'eval_loss': 0.09836322031375291, 'train_loss': 0.029670139710099377}\n",
      "\n"
     ]
    }
   ],
   "source": [
    "model.fit(\n",
    "    train_iterator,\n",
    "    test_iterator, \n",
    "    epochs = 3,\n",
    "    eval_metrics=[\"acc\", \"avg_f1\"],\n",
    "    checkpointing = checkpointing\n",
    ")"
   ]
  },
  {
   "cell_type": "code",
   "execution_count": 5,
   "id": "60faec58",
   "metadata": {},
   "outputs": [
    {
     "name": "stdout",
     "output_type": "stream",
     "text": [
      "The model has 2,383,225 trainable parameters\n"
     ]
    },
    {
     "data": {
      "application/vnd.jupyter.widget-view+json": {
       "model_id": "b852d4d0cef74caba4e8446bf7c81cf1",
       "version_major": 2,
       "version_minor": 0
      },
      "text/plain": [
       "HBox(children=(FloatProgress(value=0.0, max=69.0), HTML(value='')))"
      ]
     },
     "metadata": {},
     "output_type": "display_data"
    },
    {
     "name": "stdout",
     "output_type": "stream",
     "text": [
      "\n"
     ]
    },
    {
     "data": {
      "text/plain": [
       "{'acc': 96.82603532161053}"
      ]
     },
     "execution_count": 5,
     "metadata": {},
     "output_type": "execute_result"
    }
   ],
   "source": [
    "model = LSTMForTagging(input_dim, out_dim, TEXT, TAGS, cuda=True)\n",
    "model = checkpointing.load(model)\n",
    "model.evaluate(valid_iterator)"
   ]
  },
  {
   "cell_type": "code",
   "execution_count": null,
   "id": "faf1bbd6",
   "metadata": {},
   "outputs": [],
   "source": []
  }
 ],
 "metadata": {
  "kernelspec": {
   "display_name": "Python 3",
   "language": "python",
   "name": "python3"
  },
  "language_info": {
   "codemirror_mode": {
    "name": "ipython",
    "version": 3
   },
   "file_extension": ".py",
   "mimetype": "text/x-python",
   "name": "python",
   "nbconvert_exporter": "python",
   "pygments_lexer": "ipython3",
   "version": "3.7.10"
  }
 },
 "nbformat": 4,
 "nbformat_minor": 5
}
