{
 "cells": [
  {
   "cell_type": "markdown",
   "id": "61b8dd65",
   "metadata": {},
   "source": [
    "# LSTM"
   ]
  },
  {
   "cell_type": "code",
   "execution_count": 1,
   "id": "97fe1c11",
   "metadata": {},
   "outputs": [
    {
     "name": "stdout",
     "output_type": "stream",
     "text": [
      "Number of training examples: 8758\n",
      "Number of testing examples: 2190\n",
      "Unique tokens in TEXT vocabulary: 17493\n",
      "Unique tokens in TAGS vocabulary: 13\n"
     ]
    }
   ],
   "source": [
    "import nltk\n",
    "from sklearn.model_selection import train_test_split\n",
    "\n",
    "import torch\n",
    "from xtagger import LSTMForTagging\n",
    "from xtagger import xtagger_dataset_to_df, df_to_torchtext_data\n",
    "\n",
    "\n",
    "nltk_data = list(nltk.corpus.conll2000.tagged_sents(tagset='universal'))\n",
    "train_set, test_set = train_test_split(nltk_data,train_size=0.8,test_size=0.2)\n",
    "\n",
    "df_train = xtagger_dataset_to_df(train_set)\n",
    "df_test = xtagger_dataset_to_df(test_set)\n",
    "\n",
    "device = torch.device(\"cuda\" if torch.cuda.is_available() else \"cpu\")\n",
    "\n",
    "train_iterator, valid_iterator, test_iterator, TEXT, TAGS = df_to_torchtext_data(\n",
    "    df_train, \n",
    "    df_test, \n",
    "    device, \n",
    "    batch_size = 32\n",
    ")"
   ]
  },
  {
   "cell_type": "code",
   "execution_count": 2,
   "id": "21268680",
   "metadata": {},
   "outputs": [
    {
     "name": "stdout",
     "output_type": "stream",
     "text": [
      "The model has 2,383,425 trainable parameters\n"
     ]
    }
   ],
   "source": [
    "input_dim = len(TEXT.vocab)\n",
    "out_dim = len(TAGS.vocab)\n",
    "pad_idx = TEXT.vocab.stoi[TEXT.pad_token]\n",
    "tag_pad_idx = TAGS.vocab.stoi[TAGS.pad_token]\n",
    "\n",
    "\n",
    "model = LSTMForTagging(\n",
    "    input_dim, \n",
    "    out_dim, \n",
    "    TEXT, \n",
    "    TAGS, \n",
    "    cuda=True\n",
    ")"
   ]
  },
  {
   "cell_type": "code",
   "execution_count": 3,
   "id": "525ed8aa",
   "metadata": {},
   "outputs": [
    {
     "data": {
      "application/vnd.jupyter.widget-view+json": {
       "model_id": "06dd8a47c0804ea48826b558b0b53bda",
       "version_major": 2,
       "version_minor": 0
      },
      "text/plain": [
       "HBox(children=(FloatProgress(value=0.0, max=822.0), HTML(value='')))"
      ]
     },
     "metadata": {},
     "output_type": "display_data"
    },
    {
     "name": "stdout",
     "output_type": "stream",
     "text": [
      "Evaluating...\n"
     ]
    },
    {
     "data": {
      "application/vnd.jupyter.widget-view+json": {
       "model_id": "9dae012e05a0406594994dfac62faba1",
       "version_major": 2,
       "version_minor": 0
      },
      "text/plain": [
       "HBox(children=(FloatProgress(value=0.0, max=343.0), HTML(value='')))"
      ]
     },
     "metadata": {},
     "output_type": "display_data"
    },
    {
     "name": "stdout",
     "output_type": "stream",
     "text": [
      "\n",
      "{'eval': {'acc': 94.98248585395896, 'avg_f1': {'weighted': 94.90493183476315, 'micro': 94.98248585395896, 'macro': 80.34477052748954}}, 'train': {'acc': 96.17178222123528, 'avg_f1': {'weighted': 96.142111475462, 'micro': 96.17178222123528, 'macro': 81.30081984670088}}, 'eval_loss': 0.1621395515790884, 'train_loss': 0.12737846896596197}\n",
      "Evaluating...\n"
     ]
    },
    {
     "data": {
      "application/vnd.jupyter.widget-view+json": {
       "model_id": "a17cd7563aa741bc977ecba18c443a50",
       "version_major": 2,
       "version_minor": 0
      },
      "text/plain": [
       "HBox(children=(FloatProgress(value=0.0, max=343.0), HTML(value='')))"
      ]
     },
     "metadata": {},
     "output_type": "display_data"
    },
    {
     "name": "stdout",
     "output_type": "stream",
     "text": [
      "\n",
      "{'eval': {'acc': 96.67231225220371, 'avg_f1': {'weighted': 96.63656727463874, 'micro': 96.67231225220371, 'macro': 81.89577716131792}}, 'train': {'acc': 98.37940389869947, 'avg_f1': {'weighted': 98.37041670404544, 'micro': 98.37940389869947, 'macro': 83.19774994401263}}, 'eval_loss': 0.10416840400168861, 'train_loss': 0.05449008959325126}\n",
      "Evaluating...\n"
     ]
    },
    {
     "data": {
      "application/vnd.jupyter.widget-view+json": {
       "model_id": "ebb4acb792e841c9b14fc806d01d4feb",
       "version_major": 2,
       "version_minor": 0
      },
      "text/plain": [
       "HBox(children=(FloatProgress(value=0.0, max=343.0), HTML(value='')))"
      ]
     },
     "metadata": {},
     "output_type": "display_data"
    },
    {
     "name": "stdout",
     "output_type": "stream",
     "text": [
      "\n",
      "{'eval': {'acc': 97.22660610493091, 'avg_f1': {'weighted': 97.18670726372295, 'micro': 97.22660610493091, 'macro': 82.32854302506409}}, 'train': {'acc': 99.11849613316211, 'avg_f1': {'weighted': 99.1068425147923, 'micro': 99.11849613316211, 'macro': 83.87096084768301}}, 'eval_loss': 0.0886973857447721, 'train_loss': 0.02978493071358352}\n",
      "\n"
     ]
    }
   ],
   "source": [
    "model.fit(\n",
    "    train_iterator,\n",
    "    test_iterator, \n",
    "    epochs = 3,\n",
    "    eval_metrics=[\"acc\", \"avg_f1\"]\n",
    ")"
   ]
  },
  {
   "cell_type": "code",
   "execution_count": 4,
   "id": "6a75e9bc",
   "metadata": {},
   "outputs": [
    {
     "data": {
      "application/vnd.jupyter.widget-view+json": {
       "model_id": "afe2a74c73e847f4a77c85fb0dda5d74",
       "version_major": 2,
       "version_minor": 0
      },
      "text/plain": [
       "HBox(children=(FloatProgress(value=0.0, max=69.0), HTML(value='')))"
      ]
     },
     "metadata": {},
     "output_type": "display_data"
    },
    {
     "name": "stdout",
     "output_type": "stream",
     "text": [
      "\n"
     ]
    },
    {
     "data": {
      "text/plain": [
       "{'acc': 97.2265527262929}"
      ]
     },
     "execution_count": 4,
     "metadata": {},
     "output_type": "execute_result"
    }
   ],
   "source": [
    "model.evaluate(valid_iterator)"
   ]
  },
  {
   "cell_type": "code",
   "execution_count": 5,
   "id": "83ff47c7",
   "metadata": {},
   "outputs": [
    {
     "data": {
      "text/plain": [
       "([('there', 'DET'),\n",
       "  ('are', 'VERB'),\n",
       "  ('no', 'DET'),\n",
       "  ('two', 'NUM'),\n",
       "  ('words', 'NOUN'),\n",
       "  ('in', 'ADP'),\n",
       "  ('the', 'DET'),\n",
       "  ('english', 'NOUN'),\n",
       "  ('language', 'NOUN'),\n",
       "  ('more', 'ADJ'),\n",
       "  ('harmful', 'NOUN'),\n",
       "  ('than', 'ADP'),\n",
       "  ('good', 'ADJ'),\n",
       "  ('job', 'NOUN')],\n",
       " ['harmful'])"
      ]
     },
     "execution_count": 5,
     "metadata": {},
     "output_type": "execute_result"
    }
   ],
   "source": [
    "s = [\"There\", \"are\", \"no\", \"two\", \"words\", \"in\", \"the\", \"English\", \n",
    "     \"language\", \"more\", \"harmful\", \"than\", \"good\", \"job\"]\n",
    "model.predict(s)"
   ]
  },
  {
   "cell_type": "code",
   "execution_count": null,
   "id": "3bb875b8",
   "metadata": {},
   "outputs": [],
   "source": []
  }
 ],
 "metadata": {
  "kernelspec": {
   "display_name": "Python 3",
   "language": "python",
   "name": "python3"
  },
  "language_info": {
   "codemirror_mode": {
    "name": "ipython",
    "version": 3
   },
   "file_extension": ".py",
   "mimetype": "text/x-python",
   "name": "python",
   "nbconvert_exporter": "python",
   "pygments_lexer": "ipython3",
   "version": "3.7.10"
  }
 },
 "nbformat": 4,
 "nbformat_minor": 5
}
